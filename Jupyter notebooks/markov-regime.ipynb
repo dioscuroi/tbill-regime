{
 "cells": [
  {
   "cell_type": "markdown",
   "metadata": {},
   "source": [
    "# Markov regime switch model of T-bill yields to yield curve"
   ]
  },
  {
   "cell_type": "code",
   "execution_count": 11,
   "metadata": {
    "collapsed": true
   },
   "outputs": [],
   "source": [
    "%matplotlib inline\n",
    "\n",
    "import warnings\n",
    "warnings.simplefilter(action='ignore', category=FutureWarning)\n",
    "\n",
    "import numpy as np\n",
    "import pandas as pd\n",
    "import statsmodels.api as sm\n",
    "import matplotlib.pyplot as plt"
   ]
  },
  {
   "cell_type": "markdown",
   "metadata": {},
   "source": [
    "Load data and compute principal components from T-bond yields"
   ]
  },
  {
   "cell_type": "code",
   "execution_count": 13,
   "metadata": {},
   "outputs": [
    {
     "data": {
      "text/html": [
       "<div>\n",
       "<style>\n",
       "    .dataframe thead tr:only-child th {\n",
       "        text-align: right;\n",
       "    }\n",
       "\n",
       "    .dataframe thead th {\n",
       "        text-align: left;\n",
       "    }\n",
       "\n",
       "    .dataframe tbody tr th {\n",
       "        vertical-align: top;\n",
       "    }\n",
       "</style>\n",
       "<table border=\"1\" class=\"dataframe\">\n",
       "  <thead>\n",
       "    <tr style=\"text-align: right;\">\n",
       "      <th></th>\n",
       "      <th>date</th>\n",
       "      <th>yield1</th>\n",
       "      <th>yield2</th>\n",
       "      <th>yield3</th>\n",
       "      <th>yield4</th>\n",
       "      <th>yield5</th>\n",
       "      <th>comp_0</th>\n",
       "      <th>comp_1</th>\n",
       "      <th>comp_2</th>\n",
       "      <th>comp_3</th>\n",
       "      <th>comp_4</th>\n",
       "      <th>m1</th>\n",
       "      <th>m3</th>\n",
       "      <th>m6</th>\n",
       "      <th>y1</th>\n",
       "    </tr>\n",
       "  </thead>\n",
       "  <tbody>\n",
       "    <tr>\n",
       "      <th>0</th>\n",
       "      <td>1954-01-01</td>\n",
       "      <td>1.154014</td>\n",
       "      <td>1.440317</td>\n",
       "      <td>1.670869</td>\n",
       "      <td>1.693738</td>\n",
       "      <td>2.123211</td>\n",
       "      <td>-0.041902</td>\n",
       "      <td>0.003215</td>\n",
       "      <td>0.001132</td>\n",
       "      <td>-0.078828</td>\n",
       "      <td>0.065788</td>\n",
       "      <td>NaN</td>\n",
       "      <td>1.02</td>\n",
       "      <td>NaN</td>\n",
       "      <td>NaN</td>\n",
       "    </tr>\n",
       "    <tr>\n",
       "      <th>1</th>\n",
       "      <td>1954-02-01</td>\n",
       "      <td>1.100329</td>\n",
       "      <td>1.293659</td>\n",
       "      <td>1.496239</td>\n",
       "      <td>1.628125</td>\n",
       "      <td>1.879197</td>\n",
       "      <td>-0.043529</td>\n",
       "      <td>0.009381</td>\n",
       "      <td>0.004033</td>\n",
       "      <td>-0.028800</td>\n",
       "      <td>0.018279</td>\n",
       "      <td>NaN</td>\n",
       "      <td>1.00</td>\n",
       "      <td>NaN</td>\n",
       "      <td>NaN</td>\n",
       "    </tr>\n",
       "    <tr>\n",
       "      <th>2</th>\n",
       "      <td>1954-03-01</td>\n",
       "      <td>1.058494</td>\n",
       "      <td>1.211848</td>\n",
       "      <td>1.425534</td>\n",
       "      <td>1.596892</td>\n",
       "      <td>1.817478</td>\n",
       "      <td>-0.044206</td>\n",
       "      <td>0.009552</td>\n",
       "      <td>-0.002081</td>\n",
       "      <td>-0.013223</td>\n",
       "      <td>0.009305</td>\n",
       "      <td>NaN</td>\n",
       "      <td>1.03</td>\n",
       "      <td>NaN</td>\n",
       "      <td>NaN</td>\n",
       "    </tr>\n",
       "    <tr>\n",
       "      <th>3</th>\n",
       "      <td>1954-04-01</td>\n",
       "      <td>0.837529</td>\n",
       "      <td>1.136069</td>\n",
       "      <td>1.382004</td>\n",
       "      <td>1.544456</td>\n",
       "      <td>1.579254</td>\n",
       "      <td>-0.045691</td>\n",
       "      <td>0.008409</td>\n",
       "      <td>0.055093</td>\n",
       "      <td>0.016625</td>\n",
       "      <td>-0.010618</td>\n",
       "      <td>NaN</td>\n",
       "      <td>0.81</td>\n",
       "      <td>NaN</td>\n",
       "      <td>NaN</td>\n",
       "    </tr>\n",
       "    <tr>\n",
       "      <th>4</th>\n",
       "      <td>1954-05-01</td>\n",
       "      <td>0.847967</td>\n",
       "      <td>1.097936</td>\n",
       "      <td>1.429154</td>\n",
       "      <td>1.825164</td>\n",
       "      <td>1.773992</td>\n",
       "      <td>-0.044491</td>\n",
       "      <td>-0.004581</td>\n",
       "      <td>0.024910</td>\n",
       "      <td>0.074570</td>\n",
       "      <td>-0.056966</td>\n",
       "      <td>NaN</td>\n",
       "      <td>0.72</td>\n",
       "      <td>NaN</td>\n",
       "      <td>NaN</td>\n",
       "    </tr>\n",
       "  </tbody>\n",
       "</table>\n",
       "</div>"
      ],
      "text/plain": [
       "        date    yield1    yield2    yield3    yield4    yield5    comp_0  \\\n",
       "0 1954-01-01  1.154014  1.440317  1.670869  1.693738  2.123211 -0.041902   \n",
       "1 1954-02-01  1.100329  1.293659  1.496239  1.628125  1.879197 -0.043529   \n",
       "2 1954-03-01  1.058494  1.211848  1.425534  1.596892  1.817478 -0.044206   \n",
       "3 1954-04-01  0.837529  1.136069  1.382004  1.544456  1.579254 -0.045691   \n",
       "4 1954-05-01  0.847967  1.097936  1.429154  1.825164  1.773992 -0.044491   \n",
       "\n",
       "     comp_1    comp_2    comp_3    comp_4  m1    m3  m6  y1  \n",
       "0  0.003215  0.001132 -0.078828  0.065788 NaN  1.02 NaN NaN  \n",
       "1  0.009381  0.004033 -0.028800  0.018279 NaN  1.00 NaN NaN  \n",
       "2  0.009552 -0.002081 -0.013223  0.009305 NaN  1.03 NaN NaN  \n",
       "3  0.008409  0.055093  0.016625 -0.010618 NaN  0.81 NaN NaN  \n",
       "4 -0.004581  0.024910  0.074570 -0.056966 NaN  0.72 NaN NaN  "
      ]
     },
     "execution_count": 13,
     "metadata": {},
     "output_type": "execute_result"
    }
   ],
   "source": [
    "from statsmodels.multivariate.pca import PCA\n",
    "\n",
    "df = pd.read_stata('/Users/dioscuroi/OneDrive - UNSW/Research Data/Bonds/Bond Yields from CRSP/Fama-Bliss Discount Bond Yields.dta')\n",
    "\n",
    "pc = PCA(df.loc[:,'yield1':'yield5'])\n",
    "\n",
    "df = pd.concat([df, pc.factors], axis=1)\n",
    "\n",
    "tbills = pd.read_stata('/Users/dioscuroi/OneDrive - UNSW/Research Data/Bonds/Bond Yields from FRB/Treasury Bills/yield_tbills_monthly_end.dta')\n",
    "\n",
    "df = df.merge(tbills, on='date')\n",
    "\n",
    "df.head()"
   ]
  },
  {
   "cell_type": "code",
   "execution_count": null,
   "metadata": {
    "collapsed": true
   },
   "outputs": [],
   "source": []
  },
  {
   "cell_type": "code",
   "execution_count": null,
   "metadata": {
    "collapsed": true
   },
   "outputs": [],
   "source": []
  },
  {
   "cell_type": "code",
   "execution_count": null,
   "metadata": {
    "collapsed": true
   },
   "outputs": [],
   "source": []
  },
  {
   "cell_type": "code",
   "execution_count": null,
   "metadata": {
    "collapsed": true
   },
   "outputs": [],
   "source": []
  },
  {
   "cell_type": "code",
   "execution_count": null,
   "metadata": {
    "collapsed": true
   },
   "outputs": [],
   "source": []
  },
  {
   "cell_type": "code",
   "execution_count": null,
   "metadata": {
    "collapsed": true
   },
   "outputs": [],
   "source": []
  }
 ],
 "metadata": {
  "anaconda-cloud": {},
  "kernelspec": {
   "display_name": "Python 3",
   "language": "python",
   "name": "python3"
  },
  "language_info": {
   "codemirror_mode": {
    "name": "ipython",
    "version": 3
   },
   "file_extension": ".py",
   "mimetype": "text/x-python",
   "name": "python",
   "nbconvert_exporter": "python",
   "pygments_lexer": "ipython3",
   "version": "3.6.2"
  }
 },
 "nbformat": 4,
 "nbformat_minor": 2
}
