{
 "cells": [
  {
   "cell_type": "markdown",
   "metadata": {},
   "source": [
    "# Predict risk premiums using Svensson residuals"
   ]
  },
  {
   "cell_type": "code",
   "execution_count": 1,
   "metadata": {
    "collapsed": true
   },
   "outputs": [],
   "source": [
    "%matplotlib inline\n",
    "\n",
    "import warnings\n",
    "warnings.simplefilter(action='ignore', category=FutureWarning)\n",
    "\n",
    "import numpy as np\n",
    "import pandas as pd\n",
    "import statsmodels.api as sm\n",
    "import matplotlib.pyplot as plt"
   ]
  },
  {
   "cell_type": "markdown",
   "metadata": {},
   "source": [
    "Load Svensson curve residuals"
   ]
  },
  {
   "cell_type": "code",
   "execution_count": 2,
   "metadata": {},
   "outputs": [
    {
     "data": {
      "text/html": [
       "<div>\n",
       "<style>\n",
       "    .dataframe thead tr:only-child th {\n",
       "        text-align: right;\n",
       "    }\n",
       "\n",
       "    .dataframe thead th {\n",
       "        text-align: left;\n",
       "    }\n",
       "\n",
       "    .dataframe tbody tr th {\n",
       "        vertical-align: top;\n",
       "    }\n",
       "</style>\n",
       "<table border=\"1\" class=\"dataframe\">\n",
       "  <thead>\n",
       "    <tr style=\"text-align: right;\">\n",
       "      <th></th>\n",
       "      <th>sven_resid</th>\n",
       "    </tr>\n",
       "    <tr>\n",
       "      <th>date</th>\n",
       "      <th></th>\n",
       "    </tr>\n",
       "  </thead>\n",
       "  <tbody>\n",
       "    <tr>\n",
       "      <th>1961-06-14</th>\n",
       "      <td>-0.247023</td>\n",
       "    </tr>\n",
       "    <tr>\n",
       "      <th>1961-06-15</th>\n",
       "      <td>-0.254756</td>\n",
       "    </tr>\n",
       "    <tr>\n",
       "      <th>1961-06-16</th>\n",
       "      <td>-0.208720</td>\n",
       "    </tr>\n",
       "  </tbody>\n",
       "</table>\n",
       "</div>"
      ],
      "text/plain": [
       "            sven_resid\n",
       "date                  \n",
       "1961-06-14   -0.247023\n",
       "1961-06-15   -0.254756\n",
       "1961-06-16   -0.208720"
      ]
     },
     "execution_count": 2,
     "metadata": {},
     "output_type": "execute_result"
    }
   ],
   "source": [
    "df_sven_resid = pd.read_csv('Svensson residual daily.csv', index_col='date')\n",
    "\n",
    "df_sven_resid.index = pd.PeriodIndex(df_sven_resid.index, freq='D')\n",
    "\n",
    "df_sven_resid.head(3)"
   ]
  },
  {
   "cell_type": "markdown",
   "metadata": {},
   "source": [
    "Compute month-end or month-average residuals"
   ]
  },
  {
   "cell_type": "code",
   "execution_count": 3,
   "metadata": {},
   "outputs": [
    {
     "data": {
      "text/html": [
       "<div>\n",
       "<style>\n",
       "    .dataframe thead tr:only-child th {\n",
       "        text-align: right;\n",
       "    }\n",
       "\n",
       "    .dataframe thead th {\n",
       "        text-align: left;\n",
       "    }\n",
       "\n",
       "    .dataframe tbody tr th {\n",
       "        vertical-align: top;\n",
       "    }\n",
       "</style>\n",
       "<table border=\"1\" class=\"dataframe\">\n",
       "  <thead>\n",
       "    <tr style=\"text-align: right;\">\n",
       "      <th></th>\n",
       "      <th>sven_resid_avg</th>\n",
       "      <th>sven_resid_end</th>\n",
       "    </tr>\n",
       "    <tr>\n",
       "      <th>date</th>\n",
       "      <th></th>\n",
       "      <th></th>\n",
       "    </tr>\n",
       "  </thead>\n",
       "  <tbody>\n",
       "    <tr>\n",
       "      <th>1961-06</th>\n",
       "      <td>-0.309332</td>\n",
       "      <td>-0.396254</td>\n",
       "    </tr>\n",
       "    <tr>\n",
       "      <th>1961-07</th>\n",
       "      <td>-0.080457</td>\n",
       "      <td>-0.019885</td>\n",
       "    </tr>\n",
       "    <tr>\n",
       "      <th>1961-08</th>\n",
       "      <td>-0.216606</td>\n",
       "      <td>-0.384870</td>\n",
       "    </tr>\n",
       "    <tr>\n",
       "      <th>1961-09</th>\n",
       "      <td>-0.298187</td>\n",
       "      <td>-0.262253</td>\n",
       "    </tr>\n",
       "    <tr>\n",
       "      <th>1961-10</th>\n",
       "      <td>-0.150123</td>\n",
       "      <td>-0.223662</td>\n",
       "    </tr>\n",
       "  </tbody>\n",
       "</table>\n",
       "</div>"
      ],
      "text/plain": [
       "         sven_resid_avg  sven_resid_end\n",
       "date                                   \n",
       "1961-06       -0.309332       -0.396254\n",
       "1961-07       -0.080457       -0.019885\n",
       "1961-08       -0.216606       -0.384870\n",
       "1961-09       -0.298187       -0.262253\n",
       "1961-10       -0.150123       -0.223662"
      ]
     },
     "execution_count": 3,
     "metadata": {},
     "output_type": "execute_result"
    }
   ],
   "source": [
    "df_monthend = df_sven_resid.resample('M').last()\n",
    "df_monthavg = df_sven_resid.resample('M').mean()\n",
    "\n",
    "df_monthend.columns = ['sven_resid_end']\n",
    "df_monthavg.columns = ['sven_resid_avg']\n",
    "\n",
    "df_sven_resid_month = df_monthavg.join(df_monthend)\n",
    "\n",
    "df_sven_resid_month.head()"
   ]
  },
  {
   "cell_type": "code",
   "execution_count": 4,
   "metadata": {},
   "outputs": [
    {
     "data": {
      "text/plain": [
       "<matplotlib.axes._subplots.AxesSubplot at 0x117a28f60>"
      ]
     },
     "execution_count": 4,
     "metadata": {},
     "output_type": "execute_result"
    },
    {
     "data": {
      "image/png": "[encoded data removed]",
      "text/plain": [
       "<matplotlib.figure.Figure at 0x10d01a748>"
      ]
     },
     "metadata": {},
     "output_type": "display_data"
    }
   ],
   "source": [
    "df_sven_resid_month.plot(figsize=(12,3))"
   ]
  },
  {
   "cell_type": "markdown",
   "metadata": {},
   "source": [
    "Load excess returns and the CP tent factor"
   ]
  },
  {
   "cell_type": "code",
   "execution_count": 5,
   "metadata": {},
   "outputs": [
    {
     "data": {
      "text/html": [
       "<div>\n",
       "<style>\n",
       "    .dataframe thead tr:only-child th {\n",
       "        text-align: right;\n",
       "    }\n",
       "\n",
       "    .dataframe thead th {\n",
       "        text-align: left;\n",
       "    }\n",
       "\n",
       "    .dataframe tbody tr th {\n",
       "        vertical-align: top;\n",
       "    }\n",
       "</style>\n",
       "<table border=\"1\" class=\"dataframe\">\n",
       "  <thead>\n",
       "    <tr style=\"text-align: right;\">\n",
       "      <th></th>\n",
       "      <th>tent</th>\n",
       "      <th>exret_annual2</th>\n",
       "      <th>exret_annual3</th>\n",
       "      <th>exret_annual4</th>\n",
       "      <th>exret_annual5</th>\n",
       "      <th>exret_annual6</th>\n",
       "      <th>exret_annual7</th>\n",
       "      <th>exret_annual8</th>\n",
       "      <th>exret_annual9</th>\n",
       "      <th>exret_annual10</th>\n",
       "      <th>exret_annual11</th>\n",
       "      <th>exret_annual12</th>\n",
       "      <th>exret_annual13</th>\n",
       "      <th>exret_annual14</th>\n",
       "      <th>exret_annual15</th>\n",
       "    </tr>\n",
       "    <tr>\n",
       "      <th>date</th>\n",
       "      <th></th>\n",
       "      <th></th>\n",
       "      <th></th>\n",
       "      <th></th>\n",
       "      <th></th>\n",
       "      <th></th>\n",
       "      <th></th>\n",
       "      <th></th>\n",
       "      <th></th>\n",
       "      <th></th>\n",
       "      <th></th>\n",
       "      <th></th>\n",
       "      <th></th>\n",
       "      <th></th>\n",
       "      <th></th>\n",
       "    </tr>\n",
       "  </thead>\n",
       "  <tbody>\n",
       "    <tr>\n",
       "      <th>2016-10</th>\n",
       "      <td>-0.000890</td>\n",
       "      <td>0.003562</td>\n",
       "      <td>0.009959</td>\n",
       "      <td>0.017552</td>\n",
       "      <td>0.025273</td>\n",
       "      <td>0.032554</td>\n",
       "      <td>0.039172</td>\n",
       "      <td>0.045103</td>\n",
       "      <td>0.050425</td>\n",
       "      <td>0.055254</td>\n",
       "      <td>0.059713</td>\n",
       "      <td>0.063908</td>\n",
       "      <td>0.067928</td>\n",
       "      <td>0.071842</td>\n",
       "      <td>0.075700</td>\n",
       "    </tr>\n",
       "    <tr>\n",
       "      <th>2016-11</th>\n",
       "      <td>0.009221</td>\n",
       "      <td>0.003874</td>\n",
       "      <td>0.007505</td>\n",
       "      <td>0.009618</td>\n",
       "      <td>0.010387</td>\n",
       "      <td>0.010313</td>\n",
       "      <td>0.009851</td>\n",
       "      <td>0.009312</td>\n",
       "      <td>0.008879</td>\n",
       "      <td>0.008640</td>\n",
       "      <td>0.008626</td>\n",
       "      <td>0.008834</td>\n",
       "      <td>0.009242</td>\n",
       "      <td>0.009823</td>\n",
       "      <td>0.010547</td>\n",
       "    </tr>\n",
       "    <tr>\n",
       "      <th>2016-12</th>\n",
       "      <td>0.008096</td>\n",
       "      <td>0.004592</td>\n",
       "      <td>0.008472</td>\n",
       "      <td>0.010609</td>\n",
       "      <td>0.011232</td>\n",
       "      <td>0.010859</td>\n",
       "      <td>0.009956</td>\n",
       "      <td>0.008856</td>\n",
       "      <td>0.007766</td>\n",
       "      <td>0.006802</td>\n",
       "      <td>0.006020</td>\n",
       "      <td>0.005438</td>\n",
       "      <td>0.005055</td>\n",
       "      <td>0.004862</td>\n",
       "      <td>0.004842</td>\n",
       "    </tr>\n",
       "  </tbody>\n",
       "</table>\n",
       "</div>"
      ],
      "text/plain": [
       "             tent  exret_annual2  exret_annual3  exret_annual4  exret_annual5  \\\n",
       "date                                                                            \n",
       "2016-10 -0.000890       0.003562       0.009959       0.017552       0.025273   \n",
       "2016-11  0.009221       0.003874       0.007505       0.009618       0.010387   \n",
       "2016-12  0.008096       0.004592       0.008472       0.010609       0.011232   \n",
       "\n",
       "         exret_annual6  exret_annual7  exret_annual8  exret_annual9  \\\n",
       "date                                                                  \n",
       "2016-10       0.032554       0.039172       0.045103       0.050425   \n",
       "2016-11       0.010313       0.009851       0.009312       0.008879   \n",
       "2016-12       0.010859       0.009956       0.008856       0.007766   \n",
       "\n",
       "         exret_annual10  exret_annual11  exret_annual12  exret_annual13  \\\n",
       "date                                                                      \n",
       "2016-10        0.055254        0.059713        0.063908        0.067928   \n",
       "2016-11        0.008640        0.008626        0.008834        0.009242   \n",
       "2016-12        0.006802        0.006020        0.005438        0.005055   \n",
       "\n",
       "         exret_annual14  exret_annual15  \n",
       "date                                     \n",
       "2016-10        0.071842        0.075700  \n",
       "2016-11        0.009823        0.010547  \n",
       "2016-12        0.004862        0.004842  "
      ]
     },
     "execution_count": 5,
     "metadata": {},
     "output_type": "execute_result"
    }
   ],
   "source": [
    "df_tent = pd.read_stata('/Users/dioscuroi/OneDrive - UNSW/Research Data/Bonds/Bond Yields from CRSP/risk_premium_factors.dta')\n",
    "df_tent = df_tent[['date', 'tent']]\n",
    "\n",
    "df_exrets = pd.read_stata('/Users/dioscuroi/OneDrive - UNSW/Research Data/Bonds/Bond Yields from FRB/excess_returns.dta')\n",
    "df_exrets = pd.concat([df_exrets['date'], df_exrets.loc[:,'exret_annual2':'exret_annual15']], axis=1)\n",
    "\n",
    "df_combined = df_tent.merge(df_exrets, on='date')\n",
    "\n",
    "df_combined.index = pd.PeriodIndex(df_combined['date'], freq='M')\n",
    "del df_combined['date']\n",
    "\n",
    "df_combined.tail(3)"
   ]
  },
  {
   "cell_type": "markdown",
   "metadata": {},
   "source": [
    "## Use the monthly residuals to predict risk premiums"
   ]
  },
  {
   "cell_type": "code",
   "execution_count": 6,
   "metadata": {},
   "outputs": [
    {
     "data": {
      "text/html": [
       "<div>\n",
       "<style>\n",
       "    .dataframe thead tr:only-child th {\n",
       "        text-align: right;\n",
       "    }\n",
       "\n",
       "    .dataframe thead th {\n",
       "        text-align: left;\n",
       "    }\n",
       "\n",
       "    .dataframe tbody tr th {\n",
       "        vertical-align: top;\n",
       "    }\n",
       "</style>\n",
       "<table border=\"1\" class=\"dataframe\">\n",
       "  <thead>\n",
       "    <tr style=\"text-align: right;\">\n",
       "      <th></th>\n",
       "      <th>const</th>\n",
       "      <th>sven_resid_avg</th>\n",
       "      <th>sven_resid_end</th>\n",
       "      <th>tent</th>\n",
       "      <th>exret_annual2</th>\n",
       "      <th>exret_annual3</th>\n",
       "      <th>exret_annual4</th>\n",
       "      <th>exret_annual5</th>\n",
       "      <th>exret_annual6</th>\n",
       "      <th>exret_annual7</th>\n",
       "      <th>exret_annual8</th>\n",
       "      <th>exret_annual9</th>\n",
       "      <th>exret_annual10</th>\n",
       "      <th>exret_annual11</th>\n",
       "      <th>exret_annual12</th>\n",
       "      <th>exret_annual13</th>\n",
       "      <th>exret_annual14</th>\n",
       "      <th>exret_annual15</th>\n",
       "    </tr>\n",
       "    <tr>\n",
       "      <th>date</th>\n",
       "      <th></th>\n",
       "      <th></th>\n",
       "      <th></th>\n",
       "      <th></th>\n",
       "      <th></th>\n",
       "      <th></th>\n",
       "      <th></th>\n",
       "      <th></th>\n",
       "      <th></th>\n",
       "      <th></th>\n",
       "      <th></th>\n",
       "      <th></th>\n",
       "      <th></th>\n",
       "      <th></th>\n",
       "      <th></th>\n",
       "      <th></th>\n",
       "      <th></th>\n",
       "      <th></th>\n",
       "    </tr>\n",
       "  </thead>\n",
       "  <tbody>\n",
       "    <tr>\n",
       "      <th>1961-06</th>\n",
       "      <td>1.0</td>\n",
       "      <td>-0.309332</td>\n",
       "      <td>-0.396254</td>\n",
       "      <td>NaN</td>\n",
       "      <td>NaN</td>\n",
       "      <td>NaN</td>\n",
       "      <td>NaN</td>\n",
       "      <td>NaN</td>\n",
       "      <td>NaN</td>\n",
       "      <td>NaN</td>\n",
       "      <td>NaN</td>\n",
       "      <td>NaN</td>\n",
       "      <td>NaN</td>\n",
       "      <td>NaN</td>\n",
       "      <td>NaN</td>\n",
       "      <td>NaN</td>\n",
       "      <td>NaN</td>\n",
       "      <td>NaN</td>\n",
       "    </tr>\n",
       "    <tr>\n",
       "      <th>1961-07</th>\n",
       "      <td>1.0</td>\n",
       "      <td>-0.080457</td>\n",
       "      <td>-0.019885</td>\n",
       "      <td>0.012184</td>\n",
       "      <td>NaN</td>\n",
       "      <td>NaN</td>\n",
       "      <td>NaN</td>\n",
       "      <td>NaN</td>\n",
       "      <td>NaN</td>\n",
       "      <td>NaN</td>\n",
       "      <td>NaN</td>\n",
       "      <td>NaN</td>\n",
       "      <td>NaN</td>\n",
       "      <td>NaN</td>\n",
       "      <td>NaN</td>\n",
       "      <td>NaN</td>\n",
       "      <td>NaN</td>\n",
       "      <td>NaN</td>\n",
       "    </tr>\n",
       "    <tr>\n",
       "      <th>1961-08</th>\n",
       "      <td>1.0</td>\n",
       "      <td>-0.216606</td>\n",
       "      <td>-0.384870</td>\n",
       "      <td>0.019313</td>\n",
       "      <td>NaN</td>\n",
       "      <td>NaN</td>\n",
       "      <td>NaN</td>\n",
       "      <td>NaN</td>\n",
       "      <td>NaN</td>\n",
       "      <td>NaN</td>\n",
       "      <td>NaN</td>\n",
       "      <td>NaN</td>\n",
       "      <td>NaN</td>\n",
       "      <td>NaN</td>\n",
       "      <td>NaN</td>\n",
       "      <td>NaN</td>\n",
       "      <td>NaN</td>\n",
       "      <td>NaN</td>\n",
       "    </tr>\n",
       "  </tbody>\n",
       "</table>\n",
       "</div>"
      ],
      "text/plain": [
       "         const  sven_resid_avg  sven_resid_end      tent  exret_annual2  \\\n",
       "date                                                                      \n",
       "1961-06    1.0       -0.309332       -0.396254       NaN            NaN   \n",
       "1961-07    1.0       -0.080457       -0.019885  0.012184            NaN   \n",
       "1961-08    1.0       -0.216606       -0.384870  0.019313            NaN   \n",
       "\n",
       "         exret_annual3  exret_annual4  exret_annual5  exret_annual6  \\\n",
       "date                                                                  \n",
       "1961-06            NaN            NaN            NaN            NaN   \n",
       "1961-07            NaN            NaN            NaN            NaN   \n",
       "1961-08            NaN            NaN            NaN            NaN   \n",
       "\n",
       "         exret_annual7  exret_annual8  exret_annual9  exret_annual10  \\\n",
       "date                                                                   \n",
       "1961-06            NaN            NaN            NaN             NaN   \n",
       "1961-07            NaN            NaN            NaN             NaN   \n",
       "1961-08            NaN            NaN            NaN             NaN   \n",
       "\n",
       "         exret_annual11  exret_annual12  exret_annual13  exret_annual14  \\\n",
       "date                                                                      \n",
       "1961-06             NaN             NaN             NaN             NaN   \n",
       "1961-07             NaN             NaN             NaN             NaN   \n",
       "1961-08             NaN             NaN             NaN             NaN   \n",
       "\n",
       "         exret_annual15  \n",
       "date                     \n",
       "1961-06             NaN  \n",
       "1961-07             NaN  \n",
       "1961-08             NaN  "
      ]
     },
     "execution_count": 6,
     "metadata": {},
     "output_type": "execute_result"
    }
   ],
   "source": [
    "df_combined = df_sven_resid_month.join(df_combined, how='left')\n",
    "df_combined = sm.add_constant(df_combined)\n",
    "\n",
    "df_combined.head(3)"
   ]
  },
  {
   "cell_type": "markdown",
   "metadata": {},
   "source": [
    "## Forecast: full sample"
   ]
  },
  {
   "cell_type": "markdown",
   "metadata": {},
   "source": [
    "### Forecast: 3-year bonds, month-average residual, full sample"
   ]
  },
  {
   "cell_type": "code",
   "execution_count": 7,
   "metadata": {},
   "outputs": [
    {
     "name": "stdout",
     "output_type": "stream",
     "text": [
      "                            OLS Regression Results                            \n",
      "==============================================================================\n",
      "Dep. Variable:          exret_annual3   R-squared:                       0.194\n",
      "Model:                            OLS   Adj. R-squared:                  0.191\n",
      "Method:                 Least Squares   F-statistic:                     78.30\n",
      "Date:                Wed, 08 Nov 2017   Prob (F-statistic):           3.36e-31\n",
      "Time:                        13:47:35   Log-Likelihood:                 1476.8\n",
      "No. Observations:                 654   AIC:                            -2948.\n",
      "Df Residuals:                     651   BIC:                            -2934.\n",
      "Df Model:                           2                                         \n",
      "Covariance Type:            nonrobust                                         \n",
      "==================================================================================\n",
      "                     coef    std err          t      P>|t|      [0.025      0.975]\n",
      "----------------------------------------------------------------------------------\n",
      "const          -8.734e-05      0.002     -0.056      0.955      -0.003       0.003\n",
      "tent               0.8417      0.068     12.366      0.000       0.708       0.975\n",
      "sven_resid_avg    -0.0002      0.003     -0.073      0.941      -0.007       0.006\n",
      "==============================================================================\n",
      "Omnibus:                       23.940   Durbin-Watson:                   0.222\n",
      "Prob(Omnibus):                  0.000   Jarque-Bera (JB):               36.898\n",
      "Skew:                          -0.301   Prob(JB):                     9.72e-09\n",
      "Kurtosis:                       3.996   Cond. No.                         71.3\n",
      "==============================================================================\n",
      "\n",
      "Warnings:\n",
      "[1] Standard Errors assume that the covariance matrix of the errors is correctly specified.\n"
     ]
    }
   ],
   "source": [
    "ols = sm.OLS(df_combined['exret_annual3'].shift(-12), df_combined[['const','tent','sven_resid_avg']], missing='drop')\n",
    "\n",
    "print(ols.fit().summary())"
   ]
  },
  {
   "cell_type": "markdown",
   "metadata": {},
   "source": [
    "### Forecast: 10-year bonds, month-average residual, full sample"
   ]
  },
  {
   "cell_type": "code",
   "execution_count": 8,
   "metadata": {},
   "outputs": [
    {
     "name": "stdout",
     "output_type": "stream",
     "text": [
      "                            OLS Regression Results                            \n",
      "==============================================================================\n",
      "Dep. Variable:         exret_annual10   R-squared:                       0.221\n",
      "Model:                            OLS   Adj. R-squared:                  0.218\n",
      "Method:                 Least Squares   F-statistic:                     75.16\n",
      "Date:                Wed, 08 Nov 2017   Prob (F-statistic):           1.83e-29\n",
      "Time:                        13:47:35   Log-Likelihood:                 543.81\n",
      "No. Observations:                 533   AIC:                            -1082.\n",
      "Df Residuals:                     530   BIC:                            -1069.\n",
      "Df Model:                           2                                         \n",
      "Covariance Type:            nonrobust                                         \n",
      "==================================================================================\n",
      "                     coef    std err          t      P>|t|      [0.025      0.975]\n",
      "----------------------------------------------------------------------------------\n",
      "const             -0.0053      0.007     -0.778      0.437      -0.019       0.008\n",
      "tent               3.0260      0.255     11.845      0.000       2.524       3.528\n",
      "sven_resid_avg     0.0108      0.015      0.731      0.465      -0.018       0.040\n",
      "==============================================================================\n",
      "Omnibus:                       16.607   Durbin-Watson:                   0.254\n",
      "Prob(Omnibus):                  0.000   Jarque-Bera (JB):               19.890\n",
      "Skew:                          -0.337   Prob(JB):                     4.80e-05\n",
      "Kurtosis:                       3.664   Cond. No.                         70.2\n",
      "==============================================================================\n",
      "\n",
      "Warnings:\n",
      "[1] Standard Errors assume that the covariance matrix of the errors is correctly specified.\n"
     ]
    }
   ],
   "source": [
    "ols = sm.OLS(df_combined['exret_annual10'].shift(-12), df_combined[['const','tent','sven_resid_avg']], missing='drop')\n",
    "\n",
    "print(ols.fit().summary())"
   ]
  },
  {
   "cell_type": "markdown",
   "metadata": {},
   "source": [
    "### Forecast: 3-year bonds, month-end residual, full sample"
   ]
  },
  {
   "cell_type": "code",
   "execution_count": 9,
   "metadata": {},
   "outputs": [
    {
     "name": "stdout",
     "output_type": "stream",
     "text": [
      "                            OLS Regression Results                            \n",
      "==============================================================================\n",
      "Dep. Variable:          exret_annual3   R-squared:                       0.195\n",
      "Model:                            OLS   Adj. R-squared:                  0.192\n",
      "Method:                 Least Squares   F-statistic:                     78.67\n",
      "Date:                Wed, 08 Nov 2017   Prob (F-statistic):           2.50e-31\n",
      "Time:                        13:47:35   Log-Likelihood:                 1477.1\n",
      "No. Observations:                 654   AIC:                            -2948.\n",
      "Df Residuals:                     651   BIC:                            -2935.\n",
      "Df Model:                           2                                         \n",
      "Covariance Type:            nonrobust                                         \n",
      "==================================================================================\n",
      "                     coef    std err          t      P>|t|      [0.025      0.975]\n",
      "----------------------------------------------------------------------------------\n",
      "const             -0.0007      0.001     -0.459      0.646      -0.004       0.002\n",
      "tent               0.8500      0.068     12.466      0.000       0.716       0.984\n",
      "sven_resid_end    -0.0021      0.003     -0.774      0.439      -0.007       0.003\n",
      "==============================================================================\n",
      "Omnibus:                       24.871   Durbin-Watson:                   0.221\n",
      "Prob(Omnibus):                  0.000   Jarque-Bera (JB):               37.766\n",
      "Skew:                          -0.317   Prob(JB):                     6.30e-09\n",
      "Kurtosis:                       3.992   Cond. No.                         71.6\n",
      "==============================================================================\n",
      "\n",
      "Warnings:\n",
      "[1] Standard Errors assume that the covariance matrix of the errors is correctly specified.\n"
     ]
    }
   ],
   "source": [
    "ols = sm.OLS(df_combined['exret_annual3'].shift(-12), df_combined[['const','tent','sven_resid_end']], missing='drop')\n",
    "\n",
    "print(ols.fit().summary())"
   ]
  },
  {
   "cell_type": "markdown",
   "metadata": {},
   "source": [
    "### Forecast: 10-year bonds, month-end residual, full sample"
   ]
  },
  {
   "cell_type": "code",
   "execution_count": 10,
   "metadata": {},
   "outputs": [
    {
     "name": "stdout",
     "output_type": "stream",
     "text": [
      "                            OLS Regression Results                            \n",
      "==============================================================================\n",
      "Dep. Variable:         exret_annual10   R-squared:                       0.220\n",
      "Model:                            OLS   Adj. R-squared:                  0.217\n",
      "Method:                 Least Squares   F-statistic:                     74.93\n",
      "Date:                Wed, 08 Nov 2017   Prob (F-statistic):           2.19e-29\n",
      "Time:                        13:47:35   Log-Likelihood:                 543.63\n",
      "No. Observations:                 533   AIC:                            -1081.\n",
      "Df Residuals:                     530   BIC:                            -1068.\n",
      "Df Model:                           2                                         \n",
      "Covariance Type:            nonrobust                                         \n",
      "==================================================================================\n",
      "                     coef    std err          t      P>|t|      [0.025      0.975]\n",
      "----------------------------------------------------------------------------------\n",
      "const             -0.0105      0.006     -1.668      0.096      -0.023       0.002\n",
      "tent               3.0854      0.256     12.060      0.000       2.583       3.588\n",
      "sven_resid_end    -0.0052      0.012     -0.419      0.675      -0.030       0.019\n",
      "==============================================================================\n",
      "Omnibus:                       18.335   Durbin-Watson:                   0.252\n",
      "Prob(Omnibus):                  0.000   Jarque-Bera (JB):               21.363\n",
      "Skew:                          -0.375   Prob(JB):                     2.30e-05\n",
      "Kurtosis:                       3.632   Cond. No.                         70.3\n",
      "==============================================================================\n",
      "\n",
      "Warnings:\n",
      "[1] Standard Errors assume that the covariance matrix of the errors is correctly specified.\n"
     ]
    }
   ],
   "source": [
    "ols = sm.OLS(df_combined['exret_annual10'].shift(-12), df_combined[['const','tent','sven_resid_end']], missing='drop')\n",
    "\n",
    "print(ols.fit().summary())"
   ]
  },
  {
   "cell_type": "markdown",
   "metadata": {},
   "source": [
    "## Forecast: sub-sample analysis"
   ]
  },
  {
   "cell_type": "markdown",
   "metadata": {},
   "source": [
    "### Forecast: 3-year bonds, month-average residual, pre-1989"
   ]
  },
  {
   "cell_type": "code",
   "execution_count": 11,
   "metadata": {},
   "outputs": [
    {
     "name": "stdout",
     "output_type": "stream",
     "text": [
      "                            OLS Regression Results                            \n",
      "==============================================================================\n",
      "Dep. Variable:          exret_annual3   R-squared:                       0.278\n",
      "Model:                            OLS   Adj. R-squared:                  0.274\n",
      "Method:                 Least Squares   F-statistic:                     62.99\n",
      "Date:                Wed, 08 Nov 2017   Prob (F-statistic):           7.25e-24\n",
      "Time:                        13:47:35   Log-Likelihood:                 723.67\n",
      "No. Observations:                 330   AIC:                            -1441.\n",
      "Df Residuals:                     327   BIC:                            -1430.\n",
      "Df Model:                           2                                         \n",
      "Covariance Type:            nonrobust                                         \n",
      "==================================================================================\n",
      "                     coef    std err          t      P>|t|      [0.025      0.975]\n",
      "----------------------------------------------------------------------------------\n",
      "const             -0.0085      0.002     -3.905      0.000      -0.013      -0.004\n",
      "tent               1.0175      0.091     11.222      0.000       0.839       1.196\n",
      "sven_resid_avg    -0.0020      0.004     -0.542      0.588      -0.009       0.005\n",
      "==============================================================================\n",
      "Omnibus:                       11.401   Durbin-Watson:                   0.375\n",
      "Prob(Omnibus):                  0.003   Jarque-Bera (JB):               17.908\n",
      "Skew:                          -0.222   Prob(JB):                     0.000129\n",
      "Kurtosis:                       4.051   Cond. No.                         64.6\n",
      "==============================================================================\n",
      "\n",
      "Warnings:\n",
      "[1] Standard Errors assume that the covariance matrix of the errors is correctly specified.\n"
     ]
    }
   ],
   "source": [
    "subsample = df_combined[:'1989-12-31']\n",
    "\n",
    "ols = sm.OLS(subsample['exret_annual3'].shift(-12), subsample[['const','tent','sven_resid_avg']], missing='drop')\n",
    "\n",
    "print(ols.fit().summary())"
   ]
  },
  {
   "cell_type": "markdown",
   "metadata": {},
   "source": [
    "### Forecast: 3-year bonds, month-average residual, post-1990"
   ]
  },
  {
   "cell_type": "code",
   "execution_count": 12,
   "metadata": {},
   "outputs": [
    {
     "name": "stdout",
     "output_type": "stream",
     "text": [
      "                            OLS Regression Results                            \n",
      "==============================================================================\n",
      "Dep. Variable:          exret_annual3   R-squared:                       0.100\n",
      "Model:                            OLS   Adj. R-squared:                  0.094\n",
      "Method:                 Least Squares   F-statistic:                     17.16\n",
      "Date:                Wed, 08 Nov 2017   Prob (F-statistic):           8.59e-08\n",
      "Time:                        13:47:35   Log-Likelihood:                 759.05\n",
      "No. Observations:                 312   AIC:                            -1512.\n",
      "Df Residuals:                     309   BIC:                            -1501.\n",
      "Df Model:                           2                                         \n",
      "Covariance Type:            nonrobust                                         \n",
      "==================================================================================\n",
      "                     coef    std err          t      P>|t|      [0.025      0.975]\n",
      "----------------------------------------------------------------------------------\n",
      "const              0.0034      0.003      1.108      0.269      -0.003       0.010\n",
      "tent               0.6461      0.111      5.800      0.000       0.427       0.865\n",
      "sven_resid_avg    -0.0254      0.010     -2.425      0.016      -0.046      -0.005\n",
      "==============================================================================\n",
      "Omnibus:                        5.026   Durbin-Watson:                   0.104\n",
      "Prob(Omnibus):                  0.081   Jarque-Bera (JB):                4.732\n",
      "Skew:                          -0.276   Prob(JB):                       0.0939\n",
      "Kurtosis:                       3.241   Cond. No.                         94.1\n",
      "==============================================================================\n",
      "\n",
      "Warnings:\n",
      "[1] Standard Errors assume that the covariance matrix of the errors is correctly specified.\n"
     ]
    }
   ],
   "source": [
    "subsample = df_combined['1990-01-01':]\n",
    "\n",
    "ols = sm.OLS(subsample['exret_annual3'].shift(-12), subsample[['const','tent','sven_resid_avg']], missing='drop')\n",
    "\n",
    "print(ols.fit().summary())"
   ]
  },
  {
   "cell_type": "markdown",
   "metadata": {},
   "source": [
    "### Forecast: 10-year bonds, month-average residual, pre-1989"
   ]
  },
  {
   "cell_type": "code",
   "execution_count": 13,
   "metadata": {},
   "outputs": [
    {
     "name": "stdout",
     "output_type": "stream",
     "text": [
      "                            OLS Regression Results                            \n",
      "==============================================================================\n",
      "Dep. Variable:         exret_annual10   R-squared:                       0.361\n",
      "Model:                            OLS   Adj. R-squared:                  0.355\n",
      "Method:                 Least Squares   F-statistic:                     58.24\n",
      "Date:                Wed, 08 Nov 2017   Prob (F-statistic):           8.99e-21\n",
      "Time:                        13:47:36   Log-Likelihood:                 186.39\n",
      "No. Observations:                 209   AIC:                            -366.8\n",
      "Df Residuals:                     206   BIC:                            -356.7\n",
      "Df Model:                           2                                         \n",
      "Covariance Type:            nonrobust                                         \n",
      "==================================================================================\n",
      "                     coef    std err          t      P>|t|      [0.025      0.975]\n",
      "----------------------------------------------------------------------------------\n",
      "const             -0.0777      0.013     -6.153      0.000      -0.103      -0.053\n",
      "tent               4.1862      0.388     10.788      0.000       3.421       4.951\n",
      "sven_resid_avg    -0.0407      0.020     -2.001      0.047      -0.081      -0.001\n",
      "==============================================================================\n",
      "Omnibus:                        0.999   Durbin-Watson:                   0.481\n",
      "Prob(Omnibus):                  0.607   Jarque-Bera (JB):                0.676\n",
      "Skew:                          -0.015   Prob(JB):                        0.713\n",
      "Kurtosis:                       3.277   Cond. No.                         61.1\n",
      "==============================================================================\n",
      "\n",
      "Warnings:\n",
      "[1] Standard Errors assume that the covariance matrix of the errors is correctly specified.\n"
     ]
    }
   ],
   "source": [
    "subsample = df_combined[:'1989-12-31']\n",
    "\n",
    "ols = sm.OLS(subsample['exret_annual10'].shift(-12), subsample[['const','tent','sven_resid_avg']], missing='drop')\n",
    "\n",
    "print(ols.fit().summary())"
   ]
  },
  {
   "cell_type": "markdown",
   "metadata": {},
   "source": [
    "### Forecast: 10-year bonds, month-average residual, post-1990"
   ]
  },
  {
   "cell_type": "code",
   "execution_count": 14,
   "metadata": {},
   "outputs": [
    {
     "name": "stdout",
     "output_type": "stream",
     "text": [
      "                            OLS Regression Results                            \n",
      "==============================================================================\n",
      "Dep. Variable:         exret_annual10   R-squared:                       0.167\n",
      "Model:                            OLS   Adj. R-squared:                  0.162\n",
      "Method:                 Least Squares   F-statistic:                     31.05\n",
      "Date:                Wed, 08 Nov 2017   Prob (F-statistic):           5.16e-13\n",
      "Time:                        13:47:36   Log-Likelihood:                 406.08\n",
      "No. Observations:                 312   AIC:                            -806.2\n",
      "Df Residuals:                     309   BIC:                            -794.9\n",
      "Df Model:                           2                                         \n",
      "Covariance Type:            nonrobust                                         \n",
      "==================================================================================\n",
      "                     coef    std err          t      P>|t|      [0.025      0.975]\n",
      "----------------------------------------------------------------------------------\n",
      "const              0.0112      0.010      1.160      0.247      -0.008       0.030\n",
      "tent               2.5516      0.345      7.390      0.000       1.872       3.231\n",
      "sven_resid_avg    -0.0541      0.032     -1.669      0.096      -0.118       0.010\n",
      "==============================================================================\n",
      "Omnibus:                       15.287   Durbin-Watson:                   0.215\n",
      "Prob(Omnibus):                  0.000   Jarque-Bera (JB):               17.525\n",
      "Skew:                          -0.456   Prob(JB):                     0.000157\n",
      "Kurtosis:                       3.719   Cond. No.                         94.1\n",
      "==============================================================================\n",
      "\n",
      "Warnings:\n",
      "[1] Standard Errors assume that the covariance matrix of the errors is correctly specified.\n"
     ]
    }
   ],
   "source": [
    "subsample = df_combined['1990-01-01':]\n",
    "\n",
    "ols = sm.OLS(subsample['exret_annual10'].shift(-12), subsample[['const','tent','sven_resid_avg']], missing='drop')\n",
    "\n",
    "print(ols.fit().summary())"
   ]
  },
  {
   "cell_type": "code",
   "execution_count": null,
   "metadata": {
    "collapsed": true
   },
   "outputs": [],
   "source": []
  },
  {
   "cell_type": "markdown",
   "metadata": {},
   "source": [
    "### Forecast: 3-year bonds, month-end residual, pre-1989"
   ]
  },
  {
   "cell_type": "code",
   "execution_count": 15,
   "metadata": {},
   "outputs": [
    {
     "name": "stdout",
     "output_type": "stream",
     "text": [
      "                            OLS Regression Results                            \n",
      "==============================================================================\n",
      "Dep. Variable:          exret_annual3   R-squared:                       0.281\n",
      "Model:                            OLS   Adj. R-squared:                  0.277\n",
      "Method:                 Least Squares   F-statistic:                     63.90\n",
      "Date:                Wed, 08 Nov 2017   Prob (F-statistic):           3.75e-24\n",
      "Time:                        13:47:36   Log-Likelihood:                 724.34\n",
      "No. Observations:                 330   AIC:                            -1443.\n",
      "Df Residuals:                     327   BIC:                            -1431.\n",
      "Df Model:                           2                                         \n",
      "Covariance Type:            nonrobust                                         \n",
      "==================================================================================\n",
      "                     coef    std err          t      P>|t|      [0.025      0.975]\n",
      "----------------------------------------------------------------------------------\n",
      "const             -0.0092      0.002     -4.457      0.000      -0.013      -0.005\n",
      "tent               1.0270      0.091     11.305      0.000       0.848       1.206\n",
      "sven_resid_end    -0.0039      0.003     -1.270      0.205      -0.010       0.002\n",
      "==============================================================================\n",
      "Omnibus:                       11.368   Durbin-Watson:                   0.371\n",
      "Prob(Omnibus):                  0.003   Jarque-Bera (JB):               17.194\n",
      "Skew:                          -0.237   Prob(JB):                     0.000185\n",
      "Kurtosis:                       4.012   Cond. No.                         65.3\n",
      "==============================================================================\n",
      "\n",
      "Warnings:\n",
      "[1] Standard Errors assume that the covariance matrix of the errors is correctly specified.\n"
     ]
    }
   ],
   "source": [
    "subsample = df_combined[:'1989-12-31']\n",
    "\n",
    "ols = sm.OLS(subsample['exret_annual3'].shift(-12), subsample[['const','tent','sven_resid_end']], missing='drop')\n",
    "\n",
    "print(ols.fit().summary())"
   ]
  },
  {
   "cell_type": "markdown",
   "metadata": {},
   "source": [
    "### Forecast: 3-year bonds, month-end residual, post-1990"
   ]
  },
  {
   "cell_type": "code",
   "execution_count": 16,
   "metadata": {},
   "outputs": [
    {
     "name": "stdout",
     "output_type": "stream",
     "text": [
      "                            OLS Regression Results                            \n",
      "==============================================================================\n",
      "Dep. Variable:          exret_annual3   R-squared:                       0.105\n",
      "Model:                            OLS   Adj. R-squared:                  0.099\n",
      "Method:                 Least Squares   F-statistic:                     18.03\n",
      "Date:                Wed, 08 Nov 2017   Prob (F-statistic):           3.93e-08\n",
      "Time:                        13:47:36   Log-Likelihood:                 759.84\n",
      "No. Observations:                 312   AIC:                            -1514.\n",
      "Df Residuals:                     309   BIC:                            -1502.\n",
      "Df Model:                           2                                         \n",
      "Covariance Type:            nonrobust                                         \n",
      "==================================================================================\n",
      "                     coef    std err          t      P>|t|      [0.025      0.975]\n",
      "----------------------------------------------------------------------------------\n",
      "const              0.0034      0.003      1.168      0.244      -0.002       0.009\n",
      "tent               0.6484      0.108      5.997      0.000       0.436       0.861\n",
      "sven_resid_end    -0.0263      0.010     -2.735      0.007      -0.045      -0.007\n",
      "==============================================================================\n",
      "Omnibus:                        5.042   Durbin-Watson:                   0.110\n",
      "Prob(Omnibus):                  0.080   Jarque-Bera (JB):                4.757\n",
      "Skew:                          -0.269   Prob(JB):                       0.0927\n",
      "Kurtosis:                       3.276   Cond. No.                         91.5\n",
      "==============================================================================\n",
      "\n",
      "Warnings:\n",
      "[1] Standard Errors assume that the covariance matrix of the errors is correctly specified.\n"
     ]
    }
   ],
   "source": [
    "subsample = df_combined['1990-01-01':]\n",
    "\n",
    "ols = sm.OLS(subsample['exret_annual3'].shift(-12), subsample[['const','tent','sven_resid_end']], missing='drop')\n",
    "\n",
    "print(ols.fit().summary())"
   ]
  },
  {
   "cell_type": "markdown",
   "metadata": {},
   "source": [
    "### Forecast: 10-year bonds, month-end residual, pre-1989"
   ]
  },
  {
   "cell_type": "code",
   "execution_count": 17,
   "metadata": {},
   "outputs": [
    {
     "name": "stdout",
     "output_type": "stream",
     "text": [
      "                            OLS Regression Results                            \n",
      "==============================================================================\n",
      "Dep. Variable:         exret_annual10   R-squared:                       0.368\n",
      "Model:                            OLS   Adj. R-squared:                  0.361\n",
      "Method:                 Least Squares   F-statistic:                     59.88\n",
      "Date:                Wed, 08 Nov 2017   Prob (F-statistic):           3.17e-21\n",
      "Time:                        13:47:36   Log-Likelihood:                 187.44\n",
      "No. Observations:                 209   AIC:                            -368.9\n",
      "Df Residuals:                     206   BIC:                            -358.9\n",
      "Df Model:                           2                                         \n",
      "Covariance Type:            nonrobust                                         \n",
      "==================================================================================\n",
      "                     coef    std err          t      P>|t|      [0.025      0.975]\n",
      "----------------------------------------------------------------------------------\n",
      "const             -0.0779      0.011     -6.804      0.000      -0.100      -0.055\n",
      "tent               4.2469      0.388     10.936      0.000       3.481       5.013\n",
      "sven_resid_end    -0.0396      0.016     -2.478      0.014      -0.071      -0.008\n",
      "==============================================================================\n",
      "Omnibus:                        0.994   Durbin-Watson:                   0.450\n",
      "Prob(Omnibus):                  0.608   Jarque-Bera (JB):                0.671\n",
      "Skew:                          -0.013   Prob(JB):                        0.715\n",
      "Kurtosis:                       3.276   Cond. No.                         61.6\n",
      "==============================================================================\n",
      "\n",
      "Warnings:\n",
      "[1] Standard Errors assume that the covariance matrix of the errors is correctly specified.\n"
     ]
    }
   ],
   "source": [
    "subsample = df_combined[:'1989-12-31']\n",
    "\n",
    "ols = sm.OLS(subsample['exret_annual10'].shift(-12), subsample[['const','tent','sven_resid_end']], missing='drop')\n",
    "\n",
    "print(ols.fit().summary())"
   ]
  },
  {
   "cell_type": "markdown",
   "metadata": {},
   "source": [
    "### Forecast: 10-year bonds, month-end residual, post-1990"
   ]
  },
  {
   "cell_type": "code",
   "execution_count": 18,
   "metadata": {},
   "outputs": [
    {
     "name": "stdout",
     "output_type": "stream",
     "text": [
      "                            OLS Regression Results                            \n",
      "==============================================================================\n",
      "Dep. Variable:         exret_annual10   R-squared:                       0.181\n",
      "Model:                            OLS   Adj. R-squared:                  0.176\n",
      "Method:                 Least Squares   F-statistic:                     34.11\n",
      "Date:                Wed, 08 Nov 2017   Prob (F-statistic):           4.11e-14\n",
      "Time:                        13:47:36   Log-Likelihood:                 408.64\n",
      "No. Observations:                 312   AIC:                            -811.3\n",
      "Df Residuals:                     309   BIC:                            -800.0\n",
      "Df Model:                           2                                         \n",
      "Covariance Type:            nonrobust                                         \n",
      "==================================================================================\n",
      "                     coef    std err          t      P>|t|      [0.025      0.975]\n",
      "----------------------------------------------------------------------------------\n",
      "const              0.0041      0.009      0.466      0.642      -0.013       0.022\n",
      "tent               2.7104      0.333      8.133      0.000       2.055       3.366\n",
      "sven_resid_end    -0.0836      0.030     -2.817      0.005      -0.142      -0.025\n",
      "==============================================================================\n",
      "Omnibus:                       15.980   Durbin-Watson:                   0.215\n",
      "Prob(Omnibus):                  0.000   Jarque-Bera (JB):               19.402\n",
      "Skew:                          -0.444   Prob(JB):                     6.12e-05\n",
      "Kurtosis:                       3.838   Cond. No.                         91.5\n",
      "==============================================================================\n",
      "\n",
      "Warnings:\n",
      "[1] Standard Errors assume that the covariance matrix of the errors is correctly specified.\n"
     ]
    }
   ],
   "source": [
    "subsample = df_combined['1990-01-01':]\n",
    "\n",
    "ols = sm.OLS(subsample['exret_annual10'].shift(-12), subsample[['const','tent','sven_resid_end']], missing='drop')\n",
    "\n",
    "print(ols.fit().summary())"
   ]
  },
  {
   "cell_type": "code",
   "execution_count": null,
   "metadata": {
    "collapsed": true
   },
   "outputs": [],
   "source": []
  },
  {
   "cell_type": "markdown",
   "metadata": {},
   "source": [
    "## Forecast: Markov regime switch (only month-end residuals)"
   ]
  },
  {
   "cell_type": "markdown",
   "metadata": {},
   "source": [
    "### 3-year T-bond excess returns"
   ]
  },
  {
   "cell_type": "code",
   "execution_count": 19,
   "metadata": {},
   "outputs": [
    {
     "name": "stdout",
     "output_type": "stream",
     "text": [
      "                        Markov Switching Model Results                        \n",
      "==============================================================================\n",
      "Dep. Variable:          exret_annual3   No. Observations:                  654\n",
      "Model:               MarkovRegression   Log Likelihood                1687.326\n",
      "Date:                Wed, 08 Nov 2017   AIC                          -3356.652\n",
      "Time:                        13:47:36   BIC                          -3316.304\n",
      "Sample:                    07-31-1961   HQIC                         -3341.006\n",
      "                         - 12-31-2015                                         \n",
      "Covariance Type:               approx                                         \n",
      "                             Regime 0 parameters                              \n",
      "==============================================================================\n",
      "                 coef    std err          z      P>|z|      [0.025      0.975]\n",
      "------------------------------------------------------------------------------\n",
      "const         -0.0218      0.002    -11.963      0.000      -0.025      -0.018\n",
      "x1             0.4738      0.082      5.775      0.000       0.313       0.635\n",
      "x2            -0.0011      0.003     -0.394      0.694      -0.006       0.004\n",
      "                             Regime 1 parameters                              \n",
      "==============================================================================\n",
      "                 coef    std err          z      P>|z|      [0.025      0.975]\n",
      "------------------------------------------------------------------------------\n",
      "const          0.0101      0.001      6.965      0.000       0.007       0.013\n",
      "x1             0.9032      0.062     14.479      0.000       0.781       1.025\n",
      "x2            -0.0130      0.003     -4.312      0.000      -0.019      -0.007\n",
      "                           Non-switching parameters                           \n",
      "==============================================================================\n",
      "                 coef    std err          z      P>|z|      [0.025      0.975]\n",
      "------------------------------------------------------------------------------\n",
      "sigma2         0.0003    1.6e-05     17.434      0.000       0.000       0.000\n",
      "                         Regime transition parameters                         \n",
      "==============================================================================\n",
      "                 coef    std err          z      P>|z|      [0.025      0.975]\n",
      "------------------------------------------------------------------------------\n",
      "p[0->0]        0.9527      0.014     65.897      0.000       0.924       0.981\n",
      "p[1->0]        0.0255      0.008      3.179      0.001       0.010       0.041\n",
      "==============================================================================\n",
      "\n",
      "Warnings:\n",
      "[1] Covariance matrix calculated using numerical differentiation.\n"
     ]
    },
    {
     "data": {
      "image/png": "[encoded data removed]",
      "text/plain": [
       "<matplotlib.figure.Figure at 0x117a5ff60>"
      ]
     },
     "metadata": {},
     "output_type": "display_data"
    }
   ],
   "source": [
    "regime_model = sm.tsa.MarkovRegression(df_combined['exret_annual3'].shift(-12), exog=df_combined[['tent','sven_resid_end']], k_regimes=2, missing='drop')\n",
    "\n",
    "regime_results = regime_model.fit()\n",
    "\n",
    "print(regime_results.summary())\n",
    "\n",
    "regime_results.smoothed_marginal_probabilities[1].plot(\n",
    "    title='Probability of being in Regime 1', figsize=(12,3));"
   ]
  },
  {
   "cell_type": "markdown",
   "metadata": {},
   "source": [
    "### 10-year T-bond excess returns"
   ]
  },
  {
   "cell_type": "code",
   "execution_count": 20,
   "metadata": {},
   "outputs": [
    {
     "name": "stdout",
     "output_type": "stream",
     "text": [
      "                        Markov Switching Model Results                        \n",
      "==============================================================================\n",
      "Dep. Variable:         exret_annual10   No. Observations:                  533\n",
      "Model:               MarkovRegression   Log Likelihood                 727.151\n",
      "Date:                Wed, 08 Nov 2017   AIC                          -1436.303\n",
      "Time:                        13:47:37   BIC                          -1397.796\n",
      "Sample:                    08-31-1971   HQIC                         -1421.234\n",
      "                         - 12-31-2015                                         \n",
      "Covariance Type:               approx                                         \n",
      "                             Regime 0 parameters                              \n",
      "==============================================================================\n",
      "                 coef    std err          z      P>|z|      [0.025      0.975]\n",
      "------------------------------------------------------------------------------\n",
      "const         -0.0773      0.006    -12.198      0.000      -0.090      -0.065\n",
      "x1             1.7454      0.264      6.615      0.000       1.228       2.263\n",
      "x2            -0.0082      0.009     -0.872      0.383      -0.027       0.010\n",
      "                             Regime 1 parameters                              \n",
      "==============================================================================\n",
      "                 coef    std err          z      P>|z|      [0.025      0.975]\n",
      "------------------------------------------------------------------------------\n",
      "const          0.0143      0.008      1.868      0.062      -0.001       0.029\n",
      "x1             3.2033      0.251     12.772      0.000       2.712       3.695\n",
      "x2            -0.1171      0.018     -6.372      0.000      -0.153      -0.081\n",
      "                           Non-switching parameters                           \n",
      "==============================================================================\n",
      "                 coef    std err          z      P>|z|      [0.025      0.975]\n",
      "------------------------------------------------------------------------------\n",
      "sigma2         0.0031      0.000     15.534      0.000       0.003       0.003\n",
      "                         Regime transition parameters                         \n",
      "==============================================================================\n",
      "                 coef    std err          z      P>|z|      [0.025      0.975]\n",
      "------------------------------------------------------------------------------\n",
      "p[0->0]        0.9522      0.015     63.438      0.000       0.923       0.982\n",
      "p[1->0]        0.0326      0.010      3.104      0.002       0.012       0.053\n",
      "==============================================================================\n",
      "\n",
      "Warnings:\n",
      "[1] Covariance matrix calculated using numerical differentiation.\n"
     ]
    },
    {
     "data": {
      "image/png": "[encoded data removed]",
      "text/plain": [
       "<matplotlib.figure.Figure at 0x117a6c5f8>"
      ]
     },
     "metadata": {},
     "output_type": "display_data"
    }
   ],
   "source": [
    "regime_model = sm.tsa.MarkovRegression(df_combined['exret_annual10'].shift(-12), exog=df_combined[['tent','sven_resid_end']], k_regimes=2, missing='drop')\n",
    "\n",
    "regime_results = regime_model.fit()\n",
    "\n",
    "print(regime_results.summary())\n",
    "\n",
    "regime_results.smoothed_marginal_probabilities[1].plot(\n",
    "    title='Probability of being in Regime 1', figsize=(12,3));"
   ]
  },
  {
   "cell_type": "code",
   "execution_count": null,
   "metadata": {
    "collapsed": true
   },
   "outputs": [],
   "source": []
  },
  {
   "cell_type": "markdown",
   "metadata": {
    "collapsed": true
   },
   "source": [
    "## Predict stock market excess returns"
   ]
  },
  {
   "cell_type": "code",
   "execution_count": 25,
   "metadata": {
    "collapsed": true
   },
   "outputs": [],
   "source": [
    "df_ff3factors = pd.read_stata('/Users/dioscuroi/OneDrive - UNSW/Research Data/Stocks/Fama_French/ff3factors_monthly.dta')\n",
    "\n",
    "df_ff3factors.index = pd.PeriodIndex(df_ff3factors['date'], freq='M')\n",
    "\n",
    "del df_ff3factors['date']"
   ]
  },
  {
   "cell_type": "code",
   "execution_count": 27,
   "metadata": {},
   "outputs": [
    {
     "data": {
      "text/html": [
       "<div>\n",
       "<style>\n",
       "    .dataframe thead tr:only-child th {\n",
       "        text-align: right;\n",
       "    }\n",
       "\n",
       "    .dataframe thead th {\n",
       "        text-align: left;\n",
       "    }\n",
       "\n",
       "    .dataframe tbody tr th {\n",
       "        vertical-align: top;\n",
       "    }\n",
       "</style>\n",
       "<table border=\"1\" class=\"dataframe\">\n",
       "  <thead>\n",
       "    <tr style=\"text-align: right;\">\n",
       "      <th></th>\n",
       "      <th>const</th>\n",
       "      <th>sven_resid_avg</th>\n",
       "      <th>sven_resid_end</th>\n",
       "      <th>mktrf</th>\n",
       "      <th>smb</th>\n",
       "      <th>hml</th>\n",
       "      <th>rf</th>\n",
       "    </tr>\n",
       "    <tr>\n",
       "      <th>date</th>\n",
       "      <th></th>\n",
       "      <th></th>\n",
       "      <th></th>\n",
       "      <th></th>\n",
       "      <th></th>\n",
       "      <th></th>\n",
       "      <th></th>\n",
       "    </tr>\n",
       "  </thead>\n",
       "  <tbody>\n",
       "    <tr>\n",
       "      <th>1961-06</th>\n",
       "      <td>1.0</td>\n",
       "      <td>-0.309332</td>\n",
       "      <td>-0.396254</td>\n",
       "      <td>-3.08</td>\n",
       "      <td>-2.48</td>\n",
       "      <td>-0.19</td>\n",
       "      <td>0.20</td>\n",
       "    </tr>\n",
       "    <tr>\n",
       "      <th>1961-07</th>\n",
       "      <td>1.0</td>\n",
       "      <td>-0.080457</td>\n",
       "      <td>-0.019885</td>\n",
       "      <td>2.83</td>\n",
       "      <td>-1.90</td>\n",
       "      <td>-0.13</td>\n",
       "      <td>0.18</td>\n",
       "    </tr>\n",
       "    <tr>\n",
       "      <th>1961-08</th>\n",
       "      <td>1.0</td>\n",
       "      <td>-0.216606</td>\n",
       "      <td>-0.384870</td>\n",
       "      <td>2.57</td>\n",
       "      <td>-1.81</td>\n",
       "      <td>-0.19</td>\n",
       "      <td>0.14</td>\n",
       "    </tr>\n",
       "  </tbody>\n",
       "</table>\n",
       "</div>"
      ],
      "text/plain": [
       "         const  sven_resid_avg  sven_resid_end  mktrf   smb   hml    rf\n",
       "date                                                                   \n",
       "1961-06    1.0       -0.309332       -0.396254  -3.08 -2.48 -0.19  0.20\n",
       "1961-07    1.0       -0.080457       -0.019885   2.83 -1.90 -0.13  0.18\n",
       "1961-08    1.0       -0.216606       -0.384870   2.57 -1.81 -0.19  0.14"
      ]
     },
     "execution_count": 27,
     "metadata": {},
     "output_type": "execute_result"
    }
   ],
   "source": [
    "df_combined = df_sven_resid_month.join(df_ff3factors)\n",
    "df_combined = sm.add_constant(df_combined)\n",
    "\n",
    "df_combined.head(3)"
   ]
  },
  {
   "cell_type": "code",
   "execution_count": 30,
   "metadata": {},
   "outputs": [
    {
     "name": "stdout",
     "output_type": "stream",
     "text": [
      "                            OLS Regression Results                            \n",
      "==============================================================================\n",
      "Dep. Variable:                  mktrf   R-squared:                       0.002\n",
      "Model:                            OLS   Adj. R-squared:                  0.000\n",
      "Method:                 Least Squares   F-statistic:                     1.177\n",
      "Date:                Wed, 08 Nov 2017   Prob (F-statistic):              0.278\n",
      "Time:                        13:50:07   Log-Likelihood:                -1945.2\n",
      "No. Observations:                 670   AIC:                             3894.\n",
      "Df Residuals:                     668   BIC:                             3903.\n",
      "Df Model:                           1                                         \n",
      "Covariance Type:            nonrobust                                         \n",
      "==================================================================================\n",
      "                     coef    std err          t      P>|t|      [0.025      0.975]\n",
      "----------------------------------------------------------------------------------\n",
      "const              0.6487      0.212      3.056      0.002       0.232       1.065\n",
      "sven_resid_end     0.5076      0.468      1.085      0.278      -0.411       1.426\n",
      "==============================================================================\n",
      "Omnibus:                       57.504   Durbin-Watson:                   1.861\n",
      "Prob(Omnibus):                  0.000   Jarque-Bera (JB):              127.680\n",
      "Skew:                          -0.493   Prob(JB):                     1.88e-28\n",
      "Kurtosis:                       4.898   Cond. No.                         2.97\n",
      "==============================================================================\n",
      "\n",
      "Warnings:\n",
      "[1] Standard Errors assume that the covariance matrix of the errors is correctly specified.\n"
     ]
    }
   ],
   "source": [
    "ols = sm.OLS(df_combined['mktrf'].shift(-1), df_combined[['const','sven_resid_end']], missing='drop')\n",
    "\n",
    "print(ols.fit().summary())"
   ]
  },
  {
   "cell_type": "code",
   "execution_count": 31,
   "metadata": {},
   "outputs": [
    {
     "name": "stdout",
     "output_type": "stream",
     "text": [
      "                            OLS Regression Results                            \n",
      "==============================================================================\n",
      "Dep. Variable:                  mktrf   R-squared:                       0.009\n",
      "Model:                            OLS   Adj. R-squared:                  0.006\n",
      "Method:                 Least Squares   F-statistic:                     2.958\n",
      "Date:                Wed, 08 Nov 2017   Prob (F-statistic):             0.0864\n",
      "Time:                        13:50:09   Log-Likelihood:                -935.48\n",
      "No. Observations:                 327   AIC:                             1875.\n",
      "Df Residuals:                     325   BIC:                             1883.\n",
      "Df Model:                           1                                         \n",
      "Covariance Type:            nonrobust                                         \n",
      "==================================================================================\n",
      "                     coef    std err          t      P>|t|      [0.025      0.975]\n",
      "----------------------------------------------------------------------------------\n",
      "const              1.2102      0.396      3.055      0.002       0.431       1.990\n",
      "sven_resid_end     2.8385      1.651      1.720      0.086      -0.409       6.086\n",
      "==============================================================================\n",
      "Omnibus:                       24.013   Durbin-Watson:                   1.893\n",
      "Prob(Omnibus):                  0.000   Jarque-Bera (JB):               30.582\n",
      "Skew:                          -0.573   Prob(JB):                     2.29e-07\n",
      "Kurtosis:                       3.965   Cond. No.                         7.31\n",
      "==============================================================================\n",
      "\n",
      "Warnings:\n",
      "[1] Standard Errors assume that the covariance matrix of the errors is correctly specified.\n"
     ]
    }
   ],
   "source": [
    "subsample = df_combined['1990-01-01':]\n",
    "\n",
    "ols = sm.OLS(subsample['mktrf'].shift(-1), subsample[['const','sven_resid_end']], missing='drop')\n",
    "\n",
    "print(ols.fit().summary())"
   ]
  },
  {
   "cell_type": "code",
   "execution_count": 33,
   "metadata": {},
   "outputs": [
    {
     "name": "stdout",
     "output_type": "stream",
     "text": [
      "                        Markov Switching Model Results                        \n",
      "==============================================================================\n",
      "Dep. Variable:                  mktrf   No. Observations:                  670\n",
      "Model:               MarkovRegression   Log Likelihood               -1907.836\n",
      "Date:                Wed, 08 Nov 2017   AIC                           3831.672\n",
      "Time:                        13:57:39   BIC                           3867.730\n",
      "Sample:                    06-30-1961   HQIC                          3845.639\n",
      "                         - 03-31-2017                                         \n",
      "Covariance Type:               approx                                         \n",
      "                             Regime 0 parameters                              \n",
      "==============================================================================\n",
      "                 coef    std err          z      P>|z|      [0.025      0.975]\n",
      "------------------------------------------------------------------------------\n",
      "const          1.0625      0.252      4.218      0.000       0.569       1.556\n",
      "x1             0.2327      0.688      0.338      0.735      -1.115       1.581\n",
      "sigma2         8.3193      1.867      4.455      0.000       4.659      11.979\n",
      "                             Regime 1 parameters                              \n",
      "==============================================================================\n",
      "                 coef    std err          z      P>|z|      [0.025      0.975]\n",
      "------------------------------------------------------------------------------\n",
      "const          0.0869      0.587      0.148      0.882      -1.063       1.237\n",
      "x1             0.4000      0.853      0.469      0.639      -1.271       2.071\n",
      "sigma2        31.2792      5.199      6.016      0.000      21.089      41.469\n",
      "                         Regime transition parameters                         \n",
      "==============================================================================\n",
      "                 coef    std err          z      P>|z|      [0.025      0.975]\n",
      "------------------------------------------------------------------------------\n",
      "p[0->0]        0.9540      0.020     47.813      0.000       0.915       0.993\n",
      "p[1->0]        0.0530      0.034      1.539      0.124      -0.014       0.120\n",
      "==============================================================================\n",
      "\n",
      "Warnings:\n",
      "[1] Covariance matrix calculated using numerical differentiation.\n"
     ]
    },
    {
     "data": {
      "image/png": "[encoded data removed]",
      "text/plain": [
       "<matplotlib.figure.Figure at 0x11c2afeb8>"
      ]
     },
     "metadata": {},
     "output_type": "display_data"
    }
   ],
   "source": [
    "regime_model = sm.tsa.MarkovRegression(\n",
    "    df_combined['mktrf'].shift(-1),\n",
    "    exog=df_combined[['sven_resid_end']],\n",
    "    k_regimes=2, missing='drop', switching_variance=True)\n",
    "\n",
    "regime_results = regime_model.fit()\n",
    "\n",
    "print(regime_results.summary())\n",
    "\n",
    "regime_results.smoothed_marginal_probabilities[1].plot(\n",
    "    title='Probability of being in Regime 1', figsize=(12,3));"
   ]
  },
  {
   "cell_type": "code",
   "execution_count": null,
   "metadata": {
    "collapsed": true
   },
   "outputs": [],
   "source": []
  }
 ],
 "metadata": {
  "anaconda-cloud": {},
  "kernelspec": {
   "display_name": "Python 3",
   "language": "python",
   "name": "python3"
  },
  "language_info": {
   "codemirror_mode": {
    "name": "ipython",
    "version": 3
   },
   "file_extension": ".py",
   "mimetype": "text/x-python",
   "name": "python",
   "nbconvert_exporter": "python",
   "pygments_lexer": "ipython3",
   "version": "3.6.2"
  }
 },
 "nbformat": 4,
 "nbformat_minor": 2
}
