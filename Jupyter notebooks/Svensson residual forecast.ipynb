{
 "cells": [
  {
   "cell_type": "markdown",
   "metadata": {},
   "source": [
    "# Predict risk premiums using Svensson residuals"
   ]
  },
  {
   "cell_type": "code",
   "execution_count": 1,
   "metadata": {
    "collapsed": true
   },
   "outputs": [],
   "source": [
    "%matplotlib inline\n",
    "\n",
    "import warnings\n",
    "warnings.simplefilter(action='ignore', category=FutureWarning)\n",
    "\n",
    "import numpy as np\n",
    "import pandas as pd\n",
    "import statsmodels.api as sm\n",
    "import matplotlib.pyplot as plt"
   ]
  },
  {
   "cell_type": "markdown",
   "metadata": {},
   "source": [
    "Load Svensson curve residuals"
   ]
  },
  {
   "cell_type": "code",
   "execution_count": 2,
   "metadata": {},
   "outputs": [
    {
     "data": {
      "text/html": [
       "<div>\n",
       "<style>\n",
       "    .dataframe thead tr:only-child th {\n",
       "        text-align: right;\n",
       "    }\n",
       "\n",
       "    .dataframe thead th {\n",
       "        text-align: left;\n",
       "    }\n",
       "\n",
       "    .dataframe tbody tr th {\n",
       "        vertical-align: top;\n",
       "    }\n",
       "</style>\n",
       "<table border=\"1\" class=\"dataframe\">\n",
       "  <thead>\n",
       "    <tr style=\"text-align: right;\">\n",
       "      <th></th>\n",
       "      <th>sven_resid</th>\n",
       "    </tr>\n",
       "    <tr>\n",
       "      <th>date</th>\n",
       "      <th></th>\n",
       "    </tr>\n",
       "  </thead>\n",
       "  <tbody>\n",
       "    <tr>\n",
       "      <th>1970-01-02</th>\n",
       "      <td>-0.317386</td>\n",
       "    </tr>\n",
       "    <tr>\n",
       "      <th>1970-01-05</th>\n",
       "      <td>-0.262637</td>\n",
       "    </tr>\n",
       "    <tr>\n",
       "      <th>1970-01-06</th>\n",
       "      <td>-0.253232</td>\n",
       "    </tr>\n",
       "  </tbody>\n",
       "</table>\n",
       "</div>"
      ],
      "text/plain": [
       "            sven_resid\n",
       "date                  \n",
       "1970-01-02   -0.317386\n",
       "1970-01-05   -0.262637\n",
       "1970-01-06   -0.253232"
      ]
     },
     "execution_count": 2,
     "metadata": {},
     "output_type": "execute_result"
    }
   ],
   "source": [
    "df_sven_resid = pd.read_csv('Svensson residual daily.csv', index_col='date')\n",
    "\n",
    "df_sven_resid.index = pd.PeriodIndex(df_sven_resid.index, freq='D')\n",
    "df_sven_resid = df_sven_resid['1970-01-01':]\n",
    "\n",
    "df_sven_resid.head(3)"
   ]
  },
  {
   "cell_type": "markdown",
   "metadata": {},
   "source": [
    "Compute month-end or month-average residuals"
   ]
  },
  {
   "cell_type": "code",
   "execution_count": 3,
   "metadata": {},
   "outputs": [
    {
     "data": {
      "text/html": [
       "<div>\n",
       "<style>\n",
       "    .dataframe thead tr:only-child th {\n",
       "        text-align: right;\n",
       "    }\n",
       "\n",
       "    .dataframe thead th {\n",
       "        text-align: left;\n",
       "    }\n",
       "\n",
       "    .dataframe tbody tr th {\n",
       "        vertical-align: top;\n",
       "    }\n",
       "</style>\n",
       "<table border=\"1\" class=\"dataframe\">\n",
       "  <thead>\n",
       "    <tr style=\"text-align: right;\">\n",
       "      <th></th>\n",
       "      <th>sven_resid_avg</th>\n",
       "      <th>sven_resid_end</th>\n",
       "    </tr>\n",
       "    <tr>\n",
       "      <th>date</th>\n",
       "      <th></th>\n",
       "      <th></th>\n",
       "    </tr>\n",
       "  </thead>\n",
       "  <tbody>\n",
       "    <tr>\n",
       "      <th>1970-01</th>\n",
       "      <td>-0.095533</td>\n",
       "      <td>-0.149021</td>\n",
       "    </tr>\n",
       "    <tr>\n",
       "      <th>1970-02</th>\n",
       "      <td>-0.152244</td>\n",
       "      <td>0.194471</td>\n",
       "    </tr>\n",
       "    <tr>\n",
       "      <th>1970-03</th>\n",
       "      <td>-0.010531</td>\n",
       "      <td>-0.113244</td>\n",
       "    </tr>\n",
       "    <tr>\n",
       "      <th>1970-04</th>\n",
       "      <td>-0.039413</td>\n",
       "      <td>-0.164541</td>\n",
       "    </tr>\n",
       "    <tr>\n",
       "      <th>1970-05</th>\n",
       "      <td>-0.167970</td>\n",
       "      <td>-0.037586</td>\n",
       "    </tr>\n",
       "  </tbody>\n",
       "</table>\n",
       "</div>"
      ],
      "text/plain": [
       "         sven_resid_avg  sven_resid_end\n",
       "date                                   \n",
       "1970-01       -0.095533       -0.149021\n",
       "1970-02       -0.152244        0.194471\n",
       "1970-03       -0.010531       -0.113244\n",
       "1970-04       -0.039413       -0.164541\n",
       "1970-05       -0.167970       -0.037586"
      ]
     },
     "execution_count": 3,
     "metadata": {},
     "output_type": "execute_result"
    }
   ],
   "source": [
    "df_monthend = df_sven_resid.resample('M').last()\n",
    "df_monthavg = df_sven_resid.resample('M').mean()\n",
    "\n",
    "df_monthend.columns = ['sven_resid_end']\n",
    "df_monthavg.columns = ['sven_resid_avg']\n",
    "\n",
    "df_sven_resid_month = df_monthavg.join(df_monthend)\n",
    "\n",
    "df_sven_resid_month.head()"
   ]
  },
  {
   "cell_type": "code",
   "execution_count": 4,
   "metadata": {},
   "outputs": [
    {
     "data": {
      "text/plain": [
       "<matplotlib.axes._subplots.AxesSubplot at 0x11b4caf60>"
      ]
     },
     "execution_count": 4,
     "metadata": {},
     "output_type": "execute_result"
    },
    {
     "data": {
      "image/png": "[encoded data removed]",
      "text/plain": [
       "<matplotlib.figure.Figure at 0x110ab66d8>"
      ]
     },
     "metadata": {},
     "output_type": "display_data"
    }
   ],
   "source": [
    "df_sven_resid_month.plot(figsize=(12,3))"
   ]
  },
  {
   "cell_type": "markdown",
   "metadata": {},
   "source": [
    "Load excess returns and the CP tent factor"
   ]
  },
  {
   "cell_type": "code",
   "execution_count": 5,
   "metadata": {},
   "outputs": [
    {
     "data": {
      "text/html": [
       "<div>\n",
       "<style>\n",
       "    .dataframe thead tr:only-child th {\n",
       "        text-align: right;\n",
       "    }\n",
       "\n",
       "    .dataframe thead th {\n",
       "        text-align: left;\n",
       "    }\n",
       "\n",
       "    .dataframe tbody tr th {\n",
       "        vertical-align: top;\n",
       "    }\n",
       "</style>\n",
       "<table border=\"1\" class=\"dataframe\">\n",
       "  <thead>\n",
       "    <tr style=\"text-align: right;\">\n",
       "      <th></th>\n",
       "      <th>tent</th>\n",
       "      <th>exret_annual2</th>\n",
       "      <th>exret_annual3</th>\n",
       "      <th>exret_annual4</th>\n",
       "      <th>exret_annual5</th>\n",
       "      <th>exret_annual6</th>\n",
       "      <th>exret_annual7</th>\n",
       "      <th>exret_annual8</th>\n",
       "      <th>exret_annual9</th>\n",
       "      <th>exret_annual10</th>\n",
       "      <th>exret_annual11</th>\n",
       "      <th>exret_annual12</th>\n",
       "      <th>exret_annual13</th>\n",
       "      <th>exret_annual14</th>\n",
       "      <th>exret_annual15</th>\n",
       "    </tr>\n",
       "    <tr>\n",
       "      <th>date</th>\n",
       "      <th></th>\n",
       "      <th></th>\n",
       "      <th></th>\n",
       "      <th></th>\n",
       "      <th></th>\n",
       "      <th></th>\n",
       "      <th></th>\n",
       "      <th></th>\n",
       "      <th></th>\n",
       "      <th></th>\n",
       "      <th></th>\n",
       "      <th></th>\n",
       "      <th></th>\n",
       "      <th></th>\n",
       "      <th></th>\n",
       "    </tr>\n",
       "  </thead>\n",
       "  <tbody>\n",
       "    <tr>\n",
       "      <th>2016-10</th>\n",
       "      <td>-0.000890</td>\n",
       "      <td>0.003562</td>\n",
       "      <td>0.009959</td>\n",
       "      <td>0.017552</td>\n",
       "      <td>0.025273</td>\n",
       "      <td>0.032554</td>\n",
       "      <td>0.039172</td>\n",
       "      <td>0.045103</td>\n",
       "      <td>0.050425</td>\n",
       "      <td>0.055254</td>\n",
       "      <td>0.059713</td>\n",
       "      <td>0.063908</td>\n",
       "      <td>0.067928</td>\n",
       "      <td>0.071842</td>\n",
       "      <td>0.075700</td>\n",
       "    </tr>\n",
       "    <tr>\n",
       "      <th>2016-11</th>\n",
       "      <td>0.009221</td>\n",
       "      <td>0.003874</td>\n",
       "      <td>0.007505</td>\n",
       "      <td>0.009618</td>\n",
       "      <td>0.010387</td>\n",
       "      <td>0.010313</td>\n",
       "      <td>0.009851</td>\n",
       "      <td>0.009312</td>\n",
       "      <td>0.008879</td>\n",
       "      <td>0.008640</td>\n",
       "      <td>0.008626</td>\n",
       "      <td>0.008834</td>\n",
       "      <td>0.009242</td>\n",
       "      <td>0.009823</td>\n",
       "      <td>0.010547</td>\n",
       "    </tr>\n",
       "    <tr>\n",
       "      <th>2016-12</th>\n",
       "      <td>0.008096</td>\n",
       "      <td>0.004592</td>\n",
       "      <td>0.008472</td>\n",
       "      <td>0.010609</td>\n",
       "      <td>0.011232</td>\n",
       "      <td>0.010859</td>\n",
       "      <td>0.009956</td>\n",
       "      <td>0.008856</td>\n",
       "      <td>0.007766</td>\n",
       "      <td>0.006802</td>\n",
       "      <td>0.006020</td>\n",
       "      <td>0.005438</td>\n",
       "      <td>0.005055</td>\n",
       "      <td>0.004862</td>\n",
       "      <td>0.004842</td>\n",
       "    </tr>\n",
       "  </tbody>\n",
       "</table>\n",
       "</div>"
      ],
      "text/plain": [
       "             tent  exret_annual2  exret_annual3  exret_annual4  exret_annual5  \\\n",
       "date                                                                            \n",
       "2016-10 -0.000890       0.003562       0.009959       0.017552       0.025273   \n",
       "2016-11  0.009221       0.003874       0.007505       0.009618       0.010387   \n",
       "2016-12  0.008096       0.004592       0.008472       0.010609       0.011232   \n",
       "\n",
       "         exret_annual6  exret_annual7  exret_annual8  exret_annual9  \\\n",
       "date                                                                  \n",
       "2016-10       0.032554       0.039172       0.045103       0.050425   \n",
       "2016-11       0.010313       0.009851       0.009312       0.008879   \n",
       "2016-12       0.010859       0.009956       0.008856       0.007766   \n",
       "\n",
       "         exret_annual10  exret_annual11  exret_annual12  exret_annual13  \\\n",
       "date                                                                      \n",
       "2016-10        0.055254        0.059713        0.063908        0.067928   \n",
       "2016-11        0.008640        0.008626        0.008834        0.009242   \n",
       "2016-12        0.006802        0.006020        0.005438        0.005055   \n",
       "\n",
       "         exret_annual14  exret_annual15  \n",
       "date                                     \n",
       "2016-10        0.071842        0.075700  \n",
       "2016-11        0.009823        0.010547  \n",
       "2016-12        0.004862        0.004842  "
      ]
     },
     "execution_count": 5,
     "metadata": {},
     "output_type": "execute_result"
    }
   ],
   "source": [
    "df_tent = pd.read_stata('/Users/dioscuroi/OneDrive - UNSW/Research Data/Bonds/Bond Yields from CRSP/risk_premium_factors.dta')\n",
    "df_tent = df_tent[['date', 'tent']]\n",
    "\n",
    "df_exrets = pd.read_stata('/Users/dioscuroi/OneDrive - UNSW/Research Data/Bonds/Bond Yields from FRB/excess_returns.dta')\n",
    "df_exrets = pd.concat([df_exrets['date'], df_exrets.loc[:,'exret_annual2':'exret_annual15']], axis=1)\n",
    "\n",
    "df_combined = df_tent.merge(df_exrets, on='date')\n",
    "\n",
    "df_combined.index = pd.PeriodIndex(df_combined['date'], freq='M')\n",
    "del df_combined['date']\n",
    "\n",
    "df_combined.tail(3)"
   ]
  },
  {
   "cell_type": "markdown",
   "metadata": {},
   "source": [
    "## Use the monthly residuals to predict risk premiums"
   ]
  },
  {
   "cell_type": "code",
   "execution_count": 6,
   "metadata": {},
   "outputs": [
    {
     "data": {
      "text/html": [
       "<div>\n",
       "<style>\n",
       "    .dataframe thead tr:only-child th {\n",
       "        text-align: right;\n",
       "    }\n",
       "\n",
       "    .dataframe thead th {\n",
       "        text-align: left;\n",
       "    }\n",
       "\n",
       "    .dataframe tbody tr th {\n",
       "        vertical-align: top;\n",
       "    }\n",
       "</style>\n",
       "<table border=\"1\" class=\"dataframe\">\n",
       "  <thead>\n",
       "    <tr style=\"text-align: right;\">\n",
       "      <th></th>\n",
       "      <th>const</th>\n",
       "      <th>sven_resid_avg</th>\n",
       "      <th>sven_resid_end</th>\n",
       "      <th>tent</th>\n",
       "      <th>exret_annual2</th>\n",
       "      <th>exret_annual3</th>\n",
       "      <th>exret_annual4</th>\n",
       "      <th>exret_annual5</th>\n",
       "      <th>exret_annual6</th>\n",
       "      <th>exret_annual7</th>\n",
       "      <th>exret_annual8</th>\n",
       "      <th>exret_annual9</th>\n",
       "      <th>exret_annual10</th>\n",
       "      <th>exret_annual11</th>\n",
       "      <th>exret_annual12</th>\n",
       "      <th>exret_annual13</th>\n",
       "      <th>exret_annual14</th>\n",
       "      <th>exret_annual15</th>\n",
       "    </tr>\n",
       "    <tr>\n",
       "      <th>date</th>\n",
       "      <th></th>\n",
       "      <th></th>\n",
       "      <th></th>\n",
       "      <th></th>\n",
       "      <th></th>\n",
       "      <th></th>\n",
       "      <th></th>\n",
       "      <th></th>\n",
       "      <th></th>\n",
       "      <th></th>\n",
       "      <th></th>\n",
       "      <th></th>\n",
       "      <th></th>\n",
       "      <th></th>\n",
       "      <th></th>\n",
       "      <th></th>\n",
       "      <th></th>\n",
       "      <th></th>\n",
       "    </tr>\n",
       "  </thead>\n",
       "  <tbody>\n",
       "    <tr>\n",
       "      <th>1970-01</th>\n",
       "      <td>1.0</td>\n",
       "      <td>-0.095533</td>\n",
       "      <td>-0.149021</td>\n",
       "      <td>0.007004</td>\n",
       "      <td>-0.018412</td>\n",
       "      <td>-0.036391</td>\n",
       "      <td>-0.053941</td>\n",
       "      <td>-0.070627</td>\n",
       "      <td>-0.086070</td>\n",
       "      <td>-0.099960</td>\n",
       "      <td>NaN</td>\n",
       "      <td>NaN</td>\n",
       "      <td>NaN</td>\n",
       "      <td>NaN</td>\n",
       "      <td>NaN</td>\n",
       "      <td>NaN</td>\n",
       "      <td>NaN</td>\n",
       "      <td>NaN</td>\n",
       "    </tr>\n",
       "    <tr>\n",
       "      <th>1970-02</th>\n",
       "      <td>1.0</td>\n",
       "      <td>-0.152244</td>\n",
       "      <td>0.194471</td>\n",
       "      <td>0.008012</td>\n",
       "      <td>-0.005126</td>\n",
       "      <td>-0.014530</td>\n",
       "      <td>-0.025518</td>\n",
       "      <td>-0.036195</td>\n",
       "      <td>-0.045350</td>\n",
       "      <td>-0.052290</td>\n",
       "      <td>NaN</td>\n",
       "      <td>NaN</td>\n",
       "      <td>NaN</td>\n",
       "      <td>NaN</td>\n",
       "      <td>NaN</td>\n",
       "      <td>NaN</td>\n",
       "      <td>NaN</td>\n",
       "      <td>NaN</td>\n",
       "    </tr>\n",
       "    <tr>\n",
       "      <th>1970-03</th>\n",
       "      <td>1.0</td>\n",
       "      <td>-0.010531</td>\n",
       "      <td>-0.113244</td>\n",
       "      <td>0.015299</td>\n",
       "      <td>-0.006246</td>\n",
       "      <td>-0.015758</td>\n",
       "      <td>-0.025602</td>\n",
       "      <td>-0.034449</td>\n",
       "      <td>-0.041824</td>\n",
       "      <td>-0.047683</td>\n",
       "      <td>NaN</td>\n",
       "      <td>NaN</td>\n",
       "      <td>NaN</td>\n",
       "      <td>NaN</td>\n",
       "      <td>NaN</td>\n",
       "      <td>NaN</td>\n",
       "      <td>NaN</td>\n",
       "      <td>NaN</td>\n",
       "    </tr>\n",
       "  </tbody>\n",
       "</table>\n",
       "</div>"
      ],
      "text/plain": [
       "         const  sven_resid_avg  sven_resid_end      tent  exret_annual2  \\\n",
       "date                                                                      \n",
       "1970-01    1.0       -0.095533       -0.149021  0.007004      -0.018412   \n",
       "1970-02    1.0       -0.152244        0.194471  0.008012      -0.005126   \n",
       "1970-03    1.0       -0.010531       -0.113244  0.015299      -0.006246   \n",
       "\n",
       "         exret_annual3  exret_annual4  exret_annual5  exret_annual6  \\\n",
       "date                                                                  \n",
       "1970-01      -0.036391      -0.053941      -0.070627      -0.086070   \n",
       "1970-02      -0.014530      -0.025518      -0.036195      -0.045350   \n",
       "1970-03      -0.015758      -0.025602      -0.034449      -0.041824   \n",
       "\n",
       "         exret_annual7  exret_annual8  exret_annual9  exret_annual10  \\\n",
       "date                                                                   \n",
       "1970-01      -0.099960            NaN            NaN             NaN   \n",
       "1970-02      -0.052290            NaN            NaN             NaN   \n",
       "1970-03      -0.047683            NaN            NaN             NaN   \n",
       "\n",
       "         exret_annual11  exret_annual12  exret_annual13  exret_annual14  \\\n",
       "date                                                                      \n",
       "1970-01             NaN             NaN             NaN             NaN   \n",
       "1970-02             NaN             NaN             NaN             NaN   \n",
       "1970-03             NaN             NaN             NaN             NaN   \n",
       "\n",
       "         exret_annual15  \n",
       "date                     \n",
       "1970-01             NaN  \n",
       "1970-02             NaN  \n",
       "1970-03             NaN  "
      ]
     },
     "execution_count": 6,
     "metadata": {},
     "output_type": "execute_result"
    }
   ],
   "source": [
    "df_combined = df_sven_resid_month.join(df_combined, how='left')\n",
    "df_combined = sm.add_constant(df_combined)\n",
    "\n",
    "df_combined.head(3)"
   ]
  },
  {
   "cell_type": "markdown",
   "metadata": {},
   "source": [
    "## Forecast: full sample"
   ]
  },
  {
   "cell_type": "markdown",
   "metadata": {},
   "source": [
    "### Forecast: 3-year bonds, month-average residual, full sample"
   ]
  },
  {
   "cell_type": "code",
   "execution_count": 7,
   "metadata": {},
   "outputs": [
    {
     "name": "stdout",
     "output_type": "stream",
     "text": [
      "                            OLS Regression Results                            \n",
      "==============================================================================\n",
      "Dep. Variable:          exret_annual3   R-squared:                       0.160\n",
      "Model:                            OLS   Adj. R-squared:                  0.157\n",
      "Method:                 Least Squares   F-statistic:                     52.17\n",
      "Date:                Wed, 08 Nov 2017   Prob (F-statistic):           1.80e-21\n",
      "Time:                        17:49:18   Log-Likelihood:                 1212.7\n",
      "No. Observations:                 552   AIC:                            -2419.\n",
      "Df Residuals:                     549   BIC:                            -2406.\n",
      "Df Model:                           2                                         \n",
      "Covariance Type:            nonrobust                                         \n",
      "==================================================================================\n",
      "                     coef    std err          t      P>|t|      [0.025      0.975]\n",
      "----------------------------------------------------------------------------------\n",
      "const              0.0014      0.002      0.690      0.490      -0.003       0.005\n",
      "tent               0.7837      0.079      9.976      0.000       0.629       0.938\n",
      "sven_resid_avg     0.0002      0.004      0.046      0.963      -0.008       0.009\n",
      "==============================================================================\n",
      "Omnibus:                       17.956   Durbin-Watson:                   0.212\n",
      "Prob(Omnibus):                  0.000   Jarque-Bera (JB):               21.684\n",
      "Skew:                          -0.347   Prob(JB):                     1.96e-05\n",
      "Kurtosis:                       3.679   Cond. No.                         71.1\n",
      "==============================================================================\n",
      "\n",
      "Warnings:\n",
      "[1] Standard Errors assume that the covariance matrix of the errors is correctly specified.\n"
     ]
    }
   ],
   "source": [
    "ols = sm.OLS(df_combined['exret_annual3'].shift(-12), df_combined[['const','tent','sven_resid_avg']], missing='drop')\n",
    "\n",
    "print(ols.fit().summary())"
   ]
  },
  {
   "cell_type": "markdown",
   "metadata": {},
   "source": [
    "### Forecast: 10-year bonds, month-average residual, full sample"
   ]
  },
  {
   "cell_type": "code",
   "execution_count": 8,
   "metadata": {},
   "outputs": [
    {
     "name": "stdout",
     "output_type": "stream",
     "text": [
      "                            OLS Regression Results                            \n",
      "==============================================================================\n",
      "Dep. Variable:         exret_annual10   R-squared:                       0.221\n",
      "Model:                            OLS   Adj. R-squared:                  0.218\n",
      "Method:                 Least Squares   F-statistic:                     75.16\n",
      "Date:                Wed, 08 Nov 2017   Prob (F-statistic):           1.83e-29\n",
      "Time:                        17:49:18   Log-Likelihood:                 543.81\n",
      "No. Observations:                 533   AIC:                            -1082.\n",
      "Df Residuals:                     530   BIC:                            -1069.\n",
      "Df Model:                           2                                         \n",
      "Covariance Type:            nonrobust                                         \n",
      "==================================================================================\n",
      "                     coef    std err          t      P>|t|      [0.025      0.975]\n",
      "----------------------------------------------------------------------------------\n",
      "const             -0.0053      0.007     -0.778      0.437      -0.019       0.008\n",
      "tent               3.0260      0.255     11.845      0.000       2.524       3.528\n",
      "sven_resid_avg     0.0108      0.015      0.731      0.465      -0.018       0.040\n",
      "==============================================================================\n",
      "Omnibus:                       16.607   Durbin-Watson:                   0.254\n",
      "Prob(Omnibus):                  0.000   Jarque-Bera (JB):               19.890\n",
      "Skew:                          -0.337   Prob(JB):                     4.80e-05\n",
      "Kurtosis:                       3.664   Cond. No.                         70.2\n",
      "==============================================================================\n",
      "\n",
      "Warnings:\n",
      "[1] Standard Errors assume that the covariance matrix of the errors is correctly specified.\n"
     ]
    }
   ],
   "source": [
    "ols = sm.OLS(df_combined['exret_annual10'].shift(-12), df_combined[['const','tent','sven_resid_avg']], missing='drop')\n",
    "\n",
    "print(ols.fit().summary())"
   ]
  },
  {
   "cell_type": "markdown",
   "metadata": {},
   "source": [
    "### Forecast: 3-year bonds, month-end residual, full sample"
   ]
  },
  {
   "cell_type": "code",
   "execution_count": 9,
   "metadata": {},
   "outputs": [
    {
     "name": "stdout",
     "output_type": "stream",
     "text": [
      "                            OLS Regression Results                            \n",
      "==============================================================================\n",
      "Dep. Variable:          exret_annual3   R-squared:                       0.161\n",
      "Model:                            OLS   Adj. R-squared:                  0.158\n",
      "Method:                 Least Squares   F-statistic:                     52.62\n",
      "Date:                Wed, 08 Nov 2017   Prob (F-statistic):           1.24e-21\n",
      "Time:                        17:49:18   Log-Likelihood:                 1213.1\n",
      "No. Observations:                 552   AIC:                            -2420.\n",
      "Df Residuals:                     549   BIC:                            -2407.\n",
      "Df Model:                           2                                         \n",
      "Covariance Type:            nonrobust                                         \n",
      "==================================================================================\n",
      "                     coef    std err          t      P>|t|      [0.025      0.975]\n",
      "----------------------------------------------------------------------------------\n",
      "const              0.0003      0.002      0.170      0.865      -0.003       0.004\n",
      "tent               0.7988      0.079     10.173      0.000       0.645       0.953\n",
      "sven_resid_end    -0.0032      0.004     -0.863      0.389      -0.010       0.004\n",
      "==============================================================================\n",
      "Omnibus:                       19.638   Durbin-Watson:                   0.210\n",
      "Prob(Omnibus):                  0.000   Jarque-Bera (JB):               23.534\n",
      "Skew:                          -0.375   Prob(JB):                     7.76e-06\n",
      "Kurtosis:                       3.679   Cond. No.                         71.0\n",
      "==============================================================================\n",
      "\n",
      "Warnings:\n",
      "[1] Standard Errors assume that the covariance matrix of the errors is correctly specified.\n"
     ]
    }
   ],
   "source": [
    "ols = sm.OLS(df_combined['exret_annual3'].shift(-12), df_combined[['const','tent','sven_resid_end']], missing='drop')\n",
    "\n",
    "print(ols.fit().summary())"
   ]
  },
  {
   "cell_type": "markdown",
   "metadata": {},
   "source": [
    "### Forecast: 10-year bonds, month-end residual, full sample"
   ]
  },
  {
   "cell_type": "code",
   "execution_count": 10,
   "metadata": {},
   "outputs": [
    {
     "name": "stdout",
     "output_type": "stream",
     "text": [
      "                            OLS Regression Results                            \n",
      "==============================================================================\n",
      "Dep. Variable:         exret_annual10   R-squared:                       0.220\n",
      "Model:                            OLS   Adj. R-squared:                  0.217\n",
      "Method:                 Least Squares   F-statistic:                     74.93\n",
      "Date:                Wed, 08 Nov 2017   Prob (F-statistic):           2.19e-29\n",
      "Time:                        17:49:18   Log-Likelihood:                 543.63\n",
      "No. Observations:                 533   AIC:                            -1081.\n",
      "Df Residuals:                     530   BIC:                            -1068.\n",
      "Df Model:                           2                                         \n",
      "Covariance Type:            nonrobust                                         \n",
      "==================================================================================\n",
      "                     coef    std err          t      P>|t|      [0.025      0.975]\n",
      "----------------------------------------------------------------------------------\n",
      "const             -0.0105      0.006     -1.668      0.096      -0.023       0.002\n",
      "tent               3.0854      0.256     12.060      0.000       2.583       3.588\n",
      "sven_resid_end    -0.0052      0.012     -0.419      0.675      -0.030       0.019\n",
      "==============================================================================\n",
      "Omnibus:                       18.335   Durbin-Watson:                   0.252\n",
      "Prob(Omnibus):                  0.000   Jarque-Bera (JB):               21.363\n",
      "Skew:                          -0.375   Prob(JB):                     2.30e-05\n",
      "Kurtosis:                       3.632   Cond. No.                         70.3\n",
      "==============================================================================\n",
      "\n",
      "Warnings:\n",
      "[1] Standard Errors assume that the covariance matrix of the errors is correctly specified.\n"
     ]
    }
   ],
   "source": [
    "ols = sm.OLS(df_combined['exret_annual10'].shift(-12), df_combined[['const','tent','sven_resid_end']], missing='drop')\n",
    "\n",
    "print(ols.fit().summary())"
   ]
  },
  {
   "cell_type": "markdown",
   "metadata": {},
   "source": [
    "## Forecast: sub-sample analysis"
   ]
  },
  {
   "cell_type": "markdown",
   "metadata": {},
   "source": [
    "### Forecast: 3-year bonds, month-average residual, pre-1989"
   ]
  },
  {
   "cell_type": "code",
   "execution_count": 11,
   "metadata": {},
   "outputs": [
    {
     "name": "stdout",
     "output_type": "stream",
     "text": [
      "                            OLS Regression Results                            \n",
      "==============================================================================\n",
      "Dep. Variable:          exret_annual3   R-squared:                       0.274\n",
      "Model:                            OLS   Adj. R-squared:                  0.267\n",
      "Method:                 Least Squares   F-statistic:                     42.38\n",
      "Date:                Wed, 08 Nov 2017   Prob (F-statistic):           2.40e-16\n",
      "Time:                        17:49:18   Log-Likelihood:                 468.01\n",
      "No. Observations:                 228   AIC:                            -930.0\n",
      "Df Residuals:                     225   BIC:                            -919.7\n",
      "Df Model:                           2                                         \n",
      "Covariance Type:            nonrobust                                         \n",
      "==================================================================================\n",
      "                     coef    std err          t      P>|t|      [0.025      0.975]\n",
      "----------------------------------------------------------------------------------\n",
      "const             -0.0131      0.004     -3.660      0.000      -0.020      -0.006\n",
      "tent               1.1100      0.121      9.191      0.000       0.872       1.348\n",
      "sven_resid_avg    -0.0057      0.006     -0.986      0.325      -0.017       0.006\n",
      "==============================================================================\n",
      "Omnibus:                        1.043   Durbin-Watson:                   0.415\n",
      "Prob(Omnibus):                  0.594   Jarque-Bera (JB):                0.730\n",
      "Skew:                          -0.079   Prob(JB):                        0.694\n",
      "Kurtosis:                       3.228   Cond. No.                         62.5\n",
      "==============================================================================\n",
      "\n",
      "Warnings:\n",
      "[1] Standard Errors assume that the covariance matrix of the errors is correctly specified.\n"
     ]
    }
   ],
   "source": [
    "subsample = df_combined[:'1989-12-31']\n",
    "\n",
    "ols = sm.OLS(subsample['exret_annual3'].shift(-12), subsample[['const','tent','sven_resid_avg']], missing='drop')\n",
    "\n",
    "print(ols.fit().summary())"
   ]
  },
  {
   "cell_type": "markdown",
   "metadata": {},
   "source": [
    "### Forecast: 3-year bonds, month-average residual, post-1990"
   ]
  },
  {
   "cell_type": "code",
   "execution_count": 12,
   "metadata": {},
   "outputs": [
    {
     "name": "stdout",
     "output_type": "stream",
     "text": [
      "                            OLS Regression Results                            \n",
      "==============================================================================\n",
      "Dep. Variable:          exret_annual3   R-squared:                       0.100\n",
      "Model:                            OLS   Adj. R-squared:                  0.094\n",
      "Method:                 Least Squares   F-statistic:                     17.16\n",
      "Date:                Wed, 08 Nov 2017   Prob (F-statistic):           8.59e-08\n",
      "Time:                        17:49:18   Log-Likelihood:                 759.05\n",
      "No. Observations:                 312   AIC:                            -1512.\n",
      "Df Residuals:                     309   BIC:                            -1501.\n",
      "Df Model:                           2                                         \n",
      "Covariance Type:            nonrobust                                         \n",
      "==================================================================================\n",
      "                     coef    std err          t      P>|t|      [0.025      0.975]\n",
      "----------------------------------------------------------------------------------\n",
      "const              0.0034      0.003      1.108      0.269      -0.003       0.010\n",
      "tent               0.6461      0.111      5.800      0.000       0.427       0.865\n",
      "sven_resid_avg    -0.0254      0.010     -2.425      0.016      -0.046      -0.005\n",
      "==============================================================================\n",
      "Omnibus:                        5.026   Durbin-Watson:                   0.104\n",
      "Prob(Omnibus):                  0.081   Jarque-Bera (JB):                4.732\n",
      "Skew:                          -0.276   Prob(JB):                       0.0939\n",
      "Kurtosis:                       3.241   Cond. No.                         94.1\n",
      "==============================================================================\n",
      "\n",
      "Warnings:\n",
      "[1] Standard Errors assume that the covariance matrix of the errors is correctly specified.\n"
     ]
    }
   ],
   "source": [
    "subsample = df_combined['1990-01-01':]\n",
    "\n",
    "ols = sm.OLS(subsample['exret_annual3'].shift(-12), subsample[['const','tent','sven_resid_avg']], missing='drop')\n",
    "\n",
    "print(ols.fit().summary())"
   ]
  },
  {
   "cell_type": "markdown",
   "metadata": {},
   "source": [
    "### Forecast: 10-year bonds, month-average residual, pre-1989"
   ]
  },
  {
   "cell_type": "code",
   "execution_count": 13,
   "metadata": {},
   "outputs": [
    {
     "name": "stdout",
     "output_type": "stream",
     "text": [
      "                            OLS Regression Results                            \n",
      "==============================================================================\n",
      "Dep. Variable:         exret_annual10   R-squared:                       0.361\n",
      "Model:                            OLS   Adj. R-squared:                  0.355\n",
      "Method:                 Least Squares   F-statistic:                     58.24\n",
      "Date:                Wed, 08 Nov 2017   Prob (F-statistic):           8.99e-21\n",
      "Time:                        17:49:19   Log-Likelihood:                 186.39\n",
      "No. Observations:                 209   AIC:                            -366.8\n",
      "Df Residuals:                     206   BIC:                            -356.7\n",
      "Df Model:                           2                                         \n",
      "Covariance Type:            nonrobust                                         \n",
      "==================================================================================\n",
      "                     coef    std err          t      P>|t|      [0.025      0.975]\n",
      "----------------------------------------------------------------------------------\n",
      "const             -0.0777      0.013     -6.153      0.000      -0.103      -0.053\n",
      "tent               4.1862      0.388     10.788      0.000       3.421       4.951\n",
      "sven_resid_avg    -0.0407      0.020     -2.001      0.047      -0.081      -0.001\n",
      "==============================================================================\n",
      "Omnibus:                        0.999   Durbin-Watson:                   0.481\n",
      "Prob(Omnibus):                  0.607   Jarque-Bera (JB):                0.676\n",
      "Skew:                          -0.015   Prob(JB):                        0.713\n",
      "Kurtosis:                       3.277   Cond. No.                         61.1\n",
      "==============================================================================\n",
      "\n",
      "Warnings:\n",
      "[1] Standard Errors assume that the covariance matrix of the errors is correctly specified.\n"
     ]
    }
   ],
   "source": [
    "subsample = df_combined[:'1989-12-31']\n",
    "\n",
    "ols = sm.OLS(subsample['exret_annual10'].shift(-12), subsample[['const','tent','sven_resid_avg']], missing='drop')\n",
    "\n",
    "print(ols.fit().summary())"
   ]
  },
  {
   "cell_type": "markdown",
   "metadata": {},
   "source": [
    "### Forecast: 10-year bonds, month-average residual, post-1990"
   ]
  },
  {
   "cell_type": "code",
   "execution_count": 14,
   "metadata": {},
   "outputs": [
    {
     "name": "stdout",
     "output_type": "stream",
     "text": [
      "                            OLS Regression Results                            \n",
      "==============================================================================\n",
      "Dep. Variable:         exret_annual10   R-squared:                       0.167\n",
      "Model:                            OLS   Adj. R-squared:                  0.162\n",
      "Method:                 Least Squares   F-statistic:                     31.05\n",
      "Date:                Wed, 08 Nov 2017   Prob (F-statistic):           5.16e-13\n",
      "Time:                        17:49:19   Log-Likelihood:                 406.08\n",
      "No. Observations:                 312   AIC:                            -806.2\n",
      "Df Residuals:                     309   BIC:                            -794.9\n",
      "Df Model:                           2                                         \n",
      "Covariance Type:            nonrobust                                         \n",
      "==================================================================================\n",
      "                     coef    std err          t      P>|t|      [0.025      0.975]\n",
      "----------------------------------------------------------------------------------\n",
      "const              0.0112      0.010      1.160      0.247      -0.008       0.030\n",
      "tent               2.5516      0.345      7.390      0.000       1.872       3.231\n",
      "sven_resid_avg    -0.0541      0.032     -1.669      0.096      -0.118       0.010\n",
      "==============================================================================\n",
      "Omnibus:                       15.287   Durbin-Watson:                   0.215\n",
      "Prob(Omnibus):                  0.000   Jarque-Bera (JB):               17.525\n",
      "Skew:                          -0.456   Prob(JB):                     0.000157\n",
      "Kurtosis:                       3.719   Cond. No.                         94.1\n",
      "==============================================================================\n",
      "\n",
      "Warnings:\n",
      "[1] Standard Errors assume that the covariance matrix of the errors is correctly specified.\n"
     ]
    }
   ],
   "source": [
    "subsample = df_combined['1990-01-01':]\n",
    "\n",
    "ols = sm.OLS(subsample['exret_annual10'].shift(-12), subsample[['const','tent','sven_resid_avg']], missing='drop')\n",
    "\n",
    "print(ols.fit().summary())"
   ]
  },
  {
   "cell_type": "code",
   "execution_count": null,
   "metadata": {
    "collapsed": true
   },
   "outputs": [],
   "source": []
  },
  {
   "cell_type": "markdown",
   "metadata": {},
   "source": [
    "### Forecast: 3-year bonds, month-end residual, pre-1989"
   ]
  },
  {
   "cell_type": "code",
   "execution_count": 15,
   "metadata": {},
   "outputs": [
    {
     "name": "stdout",
     "output_type": "stream",
     "text": [
      "                            OLS Regression Results                            \n",
      "==============================================================================\n",
      "Dep. Variable:          exret_annual3   R-squared:                       0.280\n",
      "Model:                            OLS   Adj. R-squared:                  0.273\n",
      "Method:                 Least Squares   F-statistic:                     43.69\n",
      "Date:                Wed, 08 Nov 2017   Prob (F-statistic):           9.30e-17\n",
      "Time:                        17:49:19   Log-Likelihood:                 468.97\n",
      "No. Observations:                 228   AIC:                            -931.9\n",
      "Df Residuals:                     225   BIC:                            -921.7\n",
      "Df Model:                           2                                         \n",
      "Covariance Type:            nonrobust                                         \n",
      "==================================================================================\n",
      "                     coef    std err          t      P>|t|      [0.025      0.975]\n",
      "----------------------------------------------------------------------------------\n",
      "const             -0.0142      0.003     -4.249      0.000      -0.021      -0.008\n",
      "tent               1.1296      0.121      9.347      0.000       0.891       1.368\n",
      "sven_resid_end    -0.0080      0.005     -1.698      0.091      -0.017       0.001\n",
      "==============================================================================\n",
      "Omnibus:                        0.859   Durbin-Watson:                   0.404\n",
      "Prob(Omnibus):                  0.651   Jarque-Bera (JB):                0.572\n",
      "Skew:                          -0.083   Prob(JB):                        0.751\n",
      "Kurtosis:                       3.180   Cond. No.                         63.0\n",
      "==============================================================================\n",
      "\n",
      "Warnings:\n",
      "[1] Standard Errors assume that the covariance matrix of the errors is correctly specified.\n"
     ]
    }
   ],
   "source": [
    "subsample = df_combined[:'1989-12-31']\n",
    "\n",
    "ols = sm.OLS(subsample['exret_annual3'].shift(-12), subsample[['const','tent','sven_resid_end']], missing='drop')\n",
    "\n",
    "print(ols.fit().summary())"
   ]
  },
  {
   "cell_type": "markdown",
   "metadata": {},
   "source": [
    "### Forecast: 3-year bonds, month-end residual, post-1990"
   ]
  },
  {
   "cell_type": "code",
   "execution_count": 16,
   "metadata": {},
   "outputs": [
    {
     "name": "stdout",
     "output_type": "stream",
     "text": [
      "                            OLS Regression Results                            \n",
      "==============================================================================\n",
      "Dep. Variable:          exret_annual3   R-squared:                       0.105\n",
      "Model:                            OLS   Adj. R-squared:                  0.099\n",
      "Method:                 Least Squares   F-statistic:                     18.03\n",
      "Date:                Wed, 08 Nov 2017   Prob (F-statistic):           3.93e-08\n",
      "Time:                        17:49:19   Log-Likelihood:                 759.84\n",
      "No. Observations:                 312   AIC:                            -1514.\n",
      "Df Residuals:                     309   BIC:                            -1502.\n",
      "Df Model:                           2                                         \n",
      "Covariance Type:            nonrobust                                         \n",
      "==================================================================================\n",
      "                     coef    std err          t      P>|t|      [0.025      0.975]\n",
      "----------------------------------------------------------------------------------\n",
      "const              0.0034      0.003      1.168      0.244      -0.002       0.009\n",
      "tent               0.6484      0.108      5.997      0.000       0.436       0.861\n",
      "sven_resid_end    -0.0263      0.010     -2.735      0.007      -0.045      -0.007\n",
      "==============================================================================\n",
      "Omnibus:                        5.042   Durbin-Watson:                   0.110\n",
      "Prob(Omnibus):                  0.080   Jarque-Bera (JB):                4.757\n",
      "Skew:                          -0.269   Prob(JB):                       0.0927\n",
      "Kurtosis:                       3.276   Cond. No.                         91.5\n",
      "==============================================================================\n",
      "\n",
      "Warnings:\n",
      "[1] Standard Errors assume that the covariance matrix of the errors is correctly specified.\n"
     ]
    }
   ],
   "source": [
    "subsample = df_combined['1990-01-01':]\n",
    "\n",
    "ols = sm.OLS(subsample['exret_annual3'].shift(-12), subsample[['const','tent','sven_resid_end']], missing='drop')\n",
    "\n",
    "print(ols.fit().summary())"
   ]
  },
  {
   "cell_type": "markdown",
   "metadata": {},
   "source": [
    "### Forecast: 10-year bonds, month-end residual, pre-1989"
   ]
  },
  {
   "cell_type": "code",
   "execution_count": 17,
   "metadata": {},
   "outputs": [
    {
     "name": "stdout",
     "output_type": "stream",
     "text": [
      "                            OLS Regression Results                            \n",
      "==============================================================================\n",
      "Dep. Variable:         exret_annual10   R-squared:                       0.368\n",
      "Model:                            OLS   Adj. R-squared:                  0.361\n",
      "Method:                 Least Squares   F-statistic:                     59.88\n",
      "Date:                Wed, 08 Nov 2017   Prob (F-statistic):           3.17e-21\n",
      "Time:                        17:49:19   Log-Likelihood:                 187.44\n",
      "No. Observations:                 209   AIC:                            -368.9\n",
      "Df Residuals:                     206   BIC:                            -358.9\n",
      "Df Model:                           2                                         \n",
      "Covariance Type:            nonrobust                                         \n",
      "==================================================================================\n",
      "                     coef    std err          t      P>|t|      [0.025      0.975]\n",
      "----------------------------------------------------------------------------------\n",
      "const             -0.0779      0.011     -6.804      0.000      -0.100      -0.055\n",
      "tent               4.2469      0.388     10.936      0.000       3.481       5.013\n",
      "sven_resid_end    -0.0396      0.016     -2.478      0.014      -0.071      -0.008\n",
      "==============================================================================\n",
      "Omnibus:                        0.994   Durbin-Watson:                   0.450\n",
      "Prob(Omnibus):                  0.608   Jarque-Bera (JB):                0.671\n",
      "Skew:                          -0.013   Prob(JB):                        0.715\n",
      "Kurtosis:                       3.276   Cond. No.                         61.6\n",
      "==============================================================================\n",
      "\n",
      "Warnings:\n",
      "[1] Standard Errors assume that the covariance matrix of the errors is correctly specified.\n"
     ]
    }
   ],
   "source": [
    "subsample = df_combined[:'1989-12-31']\n",
    "\n",
    "ols = sm.OLS(subsample['exret_annual10'].shift(-12), subsample[['const','tent','sven_resid_end']], missing='drop')\n",
    "\n",
    "print(ols.fit().summary())"
   ]
  },
  {
   "cell_type": "markdown",
   "metadata": {},
   "source": [
    "### Forecast: 10-year bonds, month-end residual, post-1990"
   ]
  },
  {
   "cell_type": "code",
   "execution_count": 18,
   "metadata": {},
   "outputs": [
    {
     "name": "stdout",
     "output_type": "stream",
     "text": [
      "                            OLS Regression Results                            \n",
      "==============================================================================\n",
      "Dep. Variable:         exret_annual10   R-squared:                       0.181\n",
      "Model:                            OLS   Adj. R-squared:                  0.176\n",
      "Method:                 Least Squares   F-statistic:                     34.11\n",
      "Date:                Wed, 08 Nov 2017   Prob (F-statistic):           4.11e-14\n",
      "Time:                        17:49:19   Log-Likelihood:                 408.64\n",
      "No. Observations:                 312   AIC:                            -811.3\n",
      "Df Residuals:                     309   BIC:                            -800.0\n",
      "Df Model:                           2                                         \n",
      "Covariance Type:            nonrobust                                         \n",
      "==================================================================================\n",
      "                     coef    std err          t      P>|t|      [0.025      0.975]\n",
      "----------------------------------------------------------------------------------\n",
      "const              0.0041      0.009      0.466      0.642      -0.013       0.022\n",
      "tent               2.7104      0.333      8.133      0.000       2.055       3.366\n",
      "sven_resid_end    -0.0836      0.030     -2.817      0.005      -0.142      -0.025\n",
      "==============================================================================\n",
      "Omnibus:                       15.980   Durbin-Watson:                   0.215\n",
      "Prob(Omnibus):                  0.000   Jarque-Bera (JB):               19.402\n",
      "Skew:                          -0.444   Prob(JB):                     6.12e-05\n",
      "Kurtosis:                       3.838   Cond. No.                         91.5\n",
      "==============================================================================\n",
      "\n",
      "Warnings:\n",
      "[1] Standard Errors assume that the covariance matrix of the errors is correctly specified.\n"
     ]
    }
   ],
   "source": [
    "subsample = df_combined['1990-01-01':]\n",
    "\n",
    "ols = sm.OLS(subsample['exret_annual10'].shift(-12), subsample[['const','tent','sven_resid_end']], missing='drop')\n",
    "\n",
    "print(ols.fit().summary())"
   ]
  },
  {
   "cell_type": "code",
   "execution_count": null,
   "metadata": {
    "collapsed": true
   },
   "outputs": [],
   "source": []
  },
  {
   "cell_type": "markdown",
   "metadata": {},
   "source": [
    "## Forecast: Markov regime switch (only month-end residuals)"
   ]
  },
  {
   "cell_type": "markdown",
   "metadata": {},
   "source": [
    "### 3-year T-bond excess returns"
   ]
  },
  {
   "cell_type": "code",
   "execution_count": 19,
   "metadata": {},
   "outputs": [
    {
     "name": "stdout",
     "output_type": "stream",
     "text": [
      "                        Markov Switching Model Results                        \n",
      "==============================================================================\n",
      "Dep. Variable:          exret_annual3   No. Observations:                  552\n",
      "Model:               MarkovRegression   Log Likelihood                1411.061\n",
      "Date:                Wed, 08 Nov 2017   AIC                          -2804.121\n",
      "Time:                        17:49:19   BIC                          -2765.299\n",
      "Sample:                    01-31-1970   HQIC                         -2788.952\n",
      "                         - 12-31-2015                                         \n",
      "Covariance Type:               approx                                         \n",
      "                             Regime 0 parameters                              \n",
      "==============================================================================\n",
      "                 coef    std err          z      P>|z|      [0.025      0.975]\n",
      "------------------------------------------------------------------------------\n",
      "const         -0.0230      0.002    -11.592      0.000      -0.027      -0.019\n",
      "x1             0.5246      0.089      5.911      0.000       0.351       0.699\n",
      "x2             0.0003      0.003      0.080      0.936      -0.006       0.006\n",
      "                             Regime 1 parameters                              \n",
      "==============================================================================\n",
      "                 coef    std err          z      P>|z|      [0.025      0.975]\n",
      "------------------------------------------------------------------------------\n",
      "const          0.0118      0.002      6.777      0.000       0.008       0.015\n",
      "x1             0.8262      0.066     12.472      0.000       0.696       0.956\n",
      "x2            -0.0170      0.004     -4.525      0.000      -0.024      -0.010\n",
      "                           Non-switching parameters                           \n",
      "==============================================================================\n",
      "                 coef    std err          z      P>|z|      [0.025      0.975]\n",
      "------------------------------------------------------------------------------\n",
      "sigma2         0.0003   1.81e-05     16.205      0.000       0.000       0.000\n",
      "                         Regime transition parameters                         \n",
      "==============================================================================\n",
      "                 coef    std err          z      P>|z|      [0.025      0.975]\n",
      "------------------------------------------------------------------------------\n",
      "p[0->0]        0.9569      0.015     65.947      0.000       0.928       0.985\n",
      "p[1->0]        0.0224      0.008      2.812      0.005       0.007       0.038\n",
      "==============================================================================\n",
      "\n",
      "Warnings:\n",
      "[1] Covariance matrix calculated using numerical differentiation.\n"
     ]
    },
    {
     "data": {
      "image/png": "[encoded data removed]",
      "text/plain": [
       "<matplotlib.figure.Figure at 0x11f648390>"
      ]
     },
     "metadata": {},
     "output_type": "display_data"
    }
   ],
   "source": [
    "regime_model = sm.tsa.MarkovRegression(df_combined['exret_annual3'].shift(-12), exog=df_combined[['tent','sven_resid_end']], k_regimes=2, missing='drop')\n",
    "\n",
    "regime_results = regime_model.fit()\n",
    "\n",
    "print(regime_results.summary())\n",
    "\n",
    "regime_results.smoothed_marginal_probabilities[1].plot(\n",
    "    title='Probability of being in Regime 1', figsize=(12,3));"
   ]
  },
  {
   "cell_type": "markdown",
   "metadata": {},
   "source": [
    "### 10-year T-bond excess returns"
   ]
  },
  {
   "cell_type": "code",
   "execution_count": 20,
   "metadata": {},
   "outputs": [
    {
     "name": "stdout",
     "output_type": "stream",
     "text": [
      "                        Markov Switching Model Results                        \n",
      "==============================================================================\n",
      "Dep. Variable:         exret_annual10   No. Observations:                  533\n",
      "Model:               MarkovRegression   Log Likelihood                 727.151\n",
      "Date:                Wed, 08 Nov 2017   AIC                          -1436.303\n",
      "Time:                        17:49:21   BIC                          -1397.796\n",
      "Sample:                    08-31-1971   HQIC                         -1421.234\n",
      "                         - 12-31-2015                                         \n",
      "Covariance Type:               approx                                         \n",
      "                             Regime 0 parameters                              \n",
      "==============================================================================\n",
      "                 coef    std err          z      P>|z|      [0.025      0.975]\n",
      "------------------------------------------------------------------------------\n",
      "const         -0.0773      0.006    -12.198      0.000      -0.090      -0.065\n",
      "x1             1.7454      0.264      6.615      0.000       1.228       2.263\n",
      "x2            -0.0082      0.009     -0.872      0.383      -0.027       0.010\n",
      "                             Regime 1 parameters                              \n",
      "==============================================================================\n",
      "                 coef    std err          z      P>|z|      [0.025      0.975]\n",
      "------------------------------------------------------------------------------\n",
      "const          0.0143      0.008      1.868      0.062      -0.001       0.029\n",
      "x1             3.2033      0.251     12.772      0.000       2.712       3.695\n",
      "x2            -0.1171      0.018     -6.372      0.000      -0.153      -0.081\n",
      "                           Non-switching parameters                           \n",
      "==============================================================================\n",
      "                 coef    std err          z      P>|z|      [0.025      0.975]\n",
      "------------------------------------------------------------------------------\n",
      "sigma2         0.0031      0.000     15.534      0.000       0.003       0.003\n",
      "                         Regime transition parameters                         \n",
      "==============================================================================\n",
      "                 coef    std err          z      P>|z|      [0.025      0.975]\n",
      "------------------------------------------------------------------------------\n",
      "p[0->0]        0.9522      0.015     63.438      0.000       0.923       0.982\n",
      "p[1->0]        0.0326      0.010      3.104      0.002       0.012       0.053\n",
      "==============================================================================\n",
      "\n",
      "Warnings:\n",
      "[1] Covariance matrix calculated using numerical differentiation.\n"
     ]
    },
    {
     "data": {
      "image/png": "[encoded data removed]",
      "text/plain": [
       "<matplotlib.figure.Figure at 0x11fb0f048>"
      ]
     },
     "metadata": {},
     "output_type": "display_data"
    }
   ],
   "source": [
    "regime_model = sm.tsa.MarkovRegression(df_combined['exret_annual10'].shift(-12), exog=df_combined[['tent','sven_resid_end']], k_regimes=2, missing='drop')\n",
    "\n",
    "regime_results = regime_model.fit()\n",
    "\n",
    "print(regime_results.summary())\n",
    "\n",
    "regime_results.smoothed_marginal_probabilities[1].plot(\n",
    "    title='Probability of being in Regime 1', figsize=(12,3));"
   ]
  },
  {
   "cell_type": "code",
   "execution_count": null,
   "metadata": {
    "collapsed": true
   },
   "outputs": [],
   "source": []
  },
  {
   "cell_type": "markdown",
   "metadata": {
    "collapsed": true
   },
   "source": [
    "## Predict stock market excess returns"
   ]
  },
  {
   "cell_type": "code",
   "execution_count": 21,
   "metadata": {
    "collapsed": true
   },
   "outputs": [],
   "source": [
    "df_ff3factors = pd.read_stata('/Users/dioscuroi/OneDrive - UNSW/Research Data/Stocks/Fama_French/ff3factors_monthly.dta')\n",
    "\n",
    "df_ff3factors.index = pd.PeriodIndex(df_ff3factors['date'], freq='M')\n",
    "\n",
    "del df_ff3factors['date']"
   ]
  },
  {
   "cell_type": "code",
   "execution_count": 22,
   "metadata": {},
   "outputs": [
    {
     "data": {
      "text/html": [
       "<div>\n",
       "<style>\n",
       "    .dataframe thead tr:only-child th {\n",
       "        text-align: right;\n",
       "    }\n",
       "\n",
       "    .dataframe thead th {\n",
       "        text-align: left;\n",
       "    }\n",
       "\n",
       "    .dataframe tbody tr th {\n",
       "        vertical-align: top;\n",
       "    }\n",
       "</style>\n",
       "<table border=\"1\" class=\"dataframe\">\n",
       "  <thead>\n",
       "    <tr style=\"text-align: right;\">\n",
       "      <th></th>\n",
       "      <th>const</th>\n",
       "      <th>sven_resid_avg</th>\n",
       "      <th>sven_resid_end</th>\n",
       "      <th>mktrf</th>\n",
       "      <th>smb</th>\n",
       "      <th>hml</th>\n",
       "      <th>rf</th>\n",
       "    </tr>\n",
       "    <tr>\n",
       "      <th>date</th>\n",
       "      <th></th>\n",
       "      <th></th>\n",
       "      <th></th>\n",
       "      <th></th>\n",
       "      <th></th>\n",
       "      <th></th>\n",
       "      <th></th>\n",
       "    </tr>\n",
       "  </thead>\n",
       "  <tbody>\n",
       "    <tr>\n",
       "      <th>1970-01</th>\n",
       "      <td>1.0</td>\n",
       "      <td>-0.095533</td>\n",
       "      <td>-0.149021</td>\n",
       "      <td>-8.10</td>\n",
       "      <td>2.91</td>\n",
       "      <td>3.06</td>\n",
       "      <td>0.60</td>\n",
       "    </tr>\n",
       "    <tr>\n",
       "      <th>1970-02</th>\n",
       "      <td>1.0</td>\n",
       "      <td>-0.152244</td>\n",
       "      <td>0.194471</td>\n",
       "      <td>5.13</td>\n",
       "      <td>-2.38</td>\n",
       "      <td>4.03</td>\n",
       "      <td>0.62</td>\n",
       "    </tr>\n",
       "    <tr>\n",
       "      <th>1970-03</th>\n",
       "      <td>1.0</td>\n",
       "      <td>-0.010531</td>\n",
       "      <td>-0.113244</td>\n",
       "      <td>-1.06</td>\n",
       "      <td>-2.32</td>\n",
       "      <td>4.25</td>\n",
       "      <td>0.57</td>\n",
       "    </tr>\n",
       "  </tbody>\n",
       "</table>\n",
       "</div>"
      ],
      "text/plain": [
       "         const  sven_resid_avg  sven_resid_end  mktrf   smb   hml    rf\n",
       "date                                                                   \n",
       "1970-01    1.0       -0.095533       -0.149021  -8.10  2.91  3.06  0.60\n",
       "1970-02    1.0       -0.152244        0.194471   5.13 -2.38  4.03  0.62\n",
       "1970-03    1.0       -0.010531       -0.113244  -1.06 -2.32  4.25  0.57"
      ]
     },
     "execution_count": 22,
     "metadata": {},
     "output_type": "execute_result"
    }
   ],
   "source": [
    "df_combined = df_sven_resid_month.join(df_ff3factors)\n",
    "df_combined = sm.add_constant(df_combined)\n",
    "\n",
    "df_combined.head(3)"
   ]
  },
  {
   "cell_type": "code",
   "execution_count": 23,
   "metadata": {},
   "outputs": [
    {
     "name": "stdout",
     "output_type": "stream",
     "text": [
      "                            OLS Regression Results                            \n",
      "==============================================================================\n",
      "Dep. Variable:                  mktrf   R-squared:                       0.006\n",
      "Model:                            OLS   Adj. R-squared:                  0.004\n",
      "Method:                 Least Squares   F-statistic:                     3.390\n",
      "Date:                Wed, 08 Nov 2017   Prob (F-statistic):             0.0661\n",
      "Time:                        17:49:22   Log-Likelihood:                -1659.3\n",
      "No. Observations:                 567   AIC:                             3323.\n",
      "Df Residuals:                     565   BIC:                             3331.\n",
      "Df Model:                           1                                         \n",
      "Covariance Type:            nonrobust                                         \n",
      "==================================================================================\n",
      "                     coef    std err          t      P>|t|      [0.025      0.975]\n",
      "----------------------------------------------------------------------------------\n",
      "const              0.8449      0.248      3.412      0.001       0.359       1.331\n",
      "sven_resid_end     1.1152      0.606      1.841      0.066      -0.075       2.305\n",
      "==============================================================================\n",
      "Omnibus:                       50.555   Durbin-Watson:                   1.875\n",
      "Prob(Omnibus):                  0.000   Jarque-Bera (JB):              117.050\n",
      "Skew:                          -0.488   Prob(JB):                     3.83e-26\n",
      "Kurtosis:                       5.001   Cond. No.                         3.43\n",
      "==============================================================================\n",
      "\n",
      "Warnings:\n",
      "[1] Standard Errors assume that the covariance matrix of the errors is correctly specified.\n"
     ]
    }
   ],
   "source": [
    "ols = sm.OLS(df_combined['mktrf'].shift(-1), df_combined[['const','sven_resid_end']], missing='drop')\n",
    "\n",
    "print(ols.fit().summary())"
   ]
  },
  {
   "cell_type": "code",
   "execution_count": 24,
   "metadata": {},
   "outputs": [
    {
     "name": "stdout",
     "output_type": "stream",
     "text": [
      "                            OLS Regression Results                            \n",
      "==============================================================================\n",
      "Dep. Variable:                  mktrf   R-squared:                       0.009\n",
      "Model:                            OLS   Adj. R-squared:                  0.006\n",
      "Method:                 Least Squares   F-statistic:                     2.958\n",
      "Date:                Wed, 08 Nov 2017   Prob (F-statistic):             0.0864\n",
      "Time:                        17:49:22   Log-Likelihood:                -935.48\n",
      "No. Observations:                 327   AIC:                             1875.\n",
      "Df Residuals:                     325   BIC:                             1883.\n",
      "Df Model:                           1                                         \n",
      "Covariance Type:            nonrobust                                         \n",
      "==================================================================================\n",
      "                     coef    std err          t      P>|t|      [0.025      0.975]\n",
      "----------------------------------------------------------------------------------\n",
      "const              1.2102      0.396      3.055      0.002       0.431       1.990\n",
      "sven_resid_end     2.8385      1.651      1.720      0.086      -0.409       6.086\n",
      "==============================================================================\n",
      "Omnibus:                       24.013   Durbin-Watson:                   1.893\n",
      "Prob(Omnibus):                  0.000   Jarque-Bera (JB):               30.582\n",
      "Skew:                          -0.573   Prob(JB):                     2.29e-07\n",
      "Kurtosis:                       3.965   Cond. No.                         7.31\n",
      "==============================================================================\n",
      "\n",
      "Warnings:\n",
      "[1] Standard Errors assume that the covariance matrix of the errors is correctly specified.\n"
     ]
    }
   ],
   "source": [
    "subsample = df_combined['1990-01-01':]\n",
    "\n",
    "ols = sm.OLS(subsample['mktrf'].shift(-1), subsample[['const','sven_resid_end']], missing='drop')\n",
    "\n",
    "print(ols.fit().summary())"
   ]
  },
  {
   "cell_type": "code",
   "execution_count": 25,
   "metadata": {},
   "outputs": [
    {
     "name": "stdout",
     "output_type": "stream",
     "text": [
      "                        Markov Switching Model Results                        \n",
      "==============================================================================\n",
      "Dep. Variable:                  mktrf   No. Observations:                  567\n",
      "Model:               MarkovRegression   Log Likelihood               -1626.240\n",
      "Date:                Wed, 08 Nov 2017   AIC                           3268.480\n",
      "Time:                        17:49:23   BIC                           3303.203\n",
      "Sample:                    01-31-1970   HQIC                          3282.031\n",
      "                         - 03-31-2017                                         \n",
      "Covariance Type:               approx                                         \n",
      "                             Regime 0 parameters                              \n",
      "==============================================================================\n",
      "                 coef    std err          z      P>|z|      [0.025      0.975]\n",
      "------------------------------------------------------------------------------\n",
      "const          1.7481      0.359      4.867      0.000       1.044       2.452\n",
      "x1             4.0351      1.561      2.585      0.010       0.975       7.095\n",
      "sigma2         8.3456      1.341      6.223      0.000       5.717      10.974\n",
      "                             Regime 1 parameters                              \n",
      "==============================================================================\n",
      "                 coef    std err          z      P>|z|      [0.025      0.975]\n",
      "------------------------------------------------------------------------------\n",
      "const          0.2351      0.517      0.455      0.649      -0.778       1.248\n",
      "x1             0.0014      1.098      0.001      0.999      -2.151       2.153\n",
      "sigma2        32.8369      4.150      7.913      0.000      24.704      40.970\n",
      "                         Regime transition parameters                         \n",
      "==============================================================================\n",
      "                 coef    std err          z      P>|z|      [0.025      0.975]\n",
      "------------------------------------------------------------------------------\n",
      "p[0->0]        0.9486      0.024     39.200      0.000       0.901       0.996\n",
      "p[1->0]        0.0564      0.031      1.799      0.072      -0.005       0.118\n",
      "==============================================================================\n",
      "\n",
      "Warnings:\n",
      "[1] Covariance matrix calculated using numerical differentiation.\n"
     ]
    },
    {
     "data": {
      "image/png": "[encoded data removed]",
      "text/plain": [
       "<matplotlib.figure.Figure at 0x11babadd8>"
      ]
     },
     "metadata": {},
     "output_type": "display_data"
    }
   ],
   "source": [
    "regime_model = sm.tsa.MarkovRegression(\n",
    "    df_combined['mktrf'].shift(-1),\n",
    "    exog=df_combined[['sven_resid_end']],\n",
    "    k_regimes=2, missing='drop', switching_variance=True)\n",
    "\n",
    "regime_results = regime_model.fit()\n",
    "\n",
    "print(regime_results.summary())\n",
    "\n",
    "regime_results.smoothed_marginal_probabilities[1].plot(\n",
    "    title='Probability of being in Regime 1', figsize=(12,3));"
   ]
  },
  {
   "cell_type": "code",
   "execution_count": null,
   "metadata": {
    "collapsed": true
   },
   "outputs": [],
   "source": []
  }
 ],
 "metadata": {
  "anaconda-cloud": {},
  "kernelspec": {
   "display_name": "Python 3",
   "language": "python",
   "name": "python3"
  },
  "language_info": {
   "codemirror_mode": {
    "name": "ipython",
    "version": 3
   },
   "file_extension": ".py",
   "mimetype": "text/x-python",
   "name": "python",
   "nbconvert_exporter": "python",
   "pygments_lexer": "ipython3",
   "version": "3.6.2"
  }
 },
 "nbformat": 4,
 "nbformat_minor": 2
}
