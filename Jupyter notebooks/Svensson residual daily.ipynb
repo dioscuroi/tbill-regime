{
 "cells": [
  {
   "cell_type": "markdown",
   "metadata": {},
   "source": [
    "# Estimate the Svensson residuals on a daily basis"
   ]
  },
  {
   "cell_type": "code",
   "execution_count": 1,
   "metadata": {
    "collapsed": true
   },
   "outputs": [],
   "source": [
    "%matplotlib inline\n",
    "\n",
    "import warnings\n",
    "warnings.simplefilter(action='ignore', category=FutureWarning)\n",
    "\n",
    "import numpy as np\n",
    "import pandas as pd\n",
    "import statsmodels.api as sm\n",
    "import matplotlib.pyplot as plt"
   ]
  },
  {
   "cell_type": "markdown",
   "metadata": {},
   "source": [
    "## Estimate liquidity factor using the Svensson curve"
   ]
  },
  {
   "cell_type": "markdown",
   "metadata": {},
   "source": [
    "Load the Svensson curve coefficients"
   ]
  },
  {
   "cell_type": "code",
   "execution_count": 2,
   "metadata": {},
   "outputs": [],
   "source": [
    "df = pd.read_stata('/Users/dioscuroi/OneDrive - UNSW/Research Data/Bonds/Bond Yields from FRB/Gurkaynak, Sack, Wright. 2006. The U.S. Treasury Yield Curve 1961 to the Present/svensson_coefs.dta')\n",
    "\n",
    "df.index = pd.PeriodIndex(df['date'], freq='D')\n",
    "\n",
    "del df['date']"
   ]
  },
  {
   "cell_type": "markdown",
   "metadata": {},
   "source": [
    "Compute zero-coupon yield curve for 3-month maturity"
   ]
  },
  {
   "cell_type": "code",
   "execution_count": 3,
   "metadata": {},
   "outputs": [
    {
     "data": {
      "text/html": [
       "<div>\n",
       "<style>\n",
       "    .dataframe thead tr:only-child th {\n",
       "        text-align: right;\n",
       "    }\n",
       "\n",
       "    .dataframe thead th {\n",
       "        text-align: left;\n",
       "    }\n",
       "\n",
       "    .dataframe tbody tr th {\n",
       "        vertical-align: top;\n",
       "    }\n",
       "</style>\n",
       "<table border=\"1\" class=\"dataframe\">\n",
       "  <thead>\n",
       "    <tr style=\"text-align: right;\">\n",
       "      <th></th>\n",
       "      <th>beta0</th>\n",
       "      <th>beta1</th>\n",
       "      <th>beta2</th>\n",
       "      <th>beta3</th>\n",
       "      <th>tau1</th>\n",
       "      <th>tau2</th>\n",
       "      <th>sven_m3</th>\n",
       "    </tr>\n",
       "    <tr>\n",
       "      <th>date</th>\n",
       "      <th></th>\n",
       "      <th></th>\n",
       "      <th></th>\n",
       "      <th></th>\n",
       "      <th></th>\n",
       "      <th></th>\n",
       "      <th></th>\n",
       "    </tr>\n",
       "  </thead>\n",
       "  <tbody>\n",
       "    <tr>\n",
       "      <th>1961-06-14</th>\n",
       "      <td>3.917606</td>\n",
       "      <td>-1.277955</td>\n",
       "      <td>-1.949397</td>\n",
       "      <td>0.0</td>\n",
       "      <td>0.339218</td>\n",
       "      <td>-999.98999</td>\n",
       "      <td>2.567023</td>\n",
       "    </tr>\n",
       "    <tr>\n",
       "      <th>1961-06-15</th>\n",
       "      <td>3.978498</td>\n",
       "      <td>-1.257404</td>\n",
       "      <td>-2.247617</td>\n",
       "      <td>0.0</td>\n",
       "      <td>0.325775</td>\n",
       "      <td>-999.98999</td>\n",
       "      <td>2.574756</td>\n",
       "    </tr>\n",
       "    <tr>\n",
       "      <th>1961-06-16</th>\n",
       "      <td>3.984350</td>\n",
       "      <td>-1.429538</td>\n",
       "      <td>-1.885024</td>\n",
       "      <td>0.0</td>\n",
       "      <td>0.348817</td>\n",
       "      <td>-999.98999</td>\n",
       "      <td>2.538720</td>\n",
       "    </tr>\n",
       "  </tbody>\n",
       "</table>\n",
       "</div>"
      ],
      "text/plain": [
       "               beta0     beta1     beta2  beta3      tau1       tau2   sven_m3\n",
       "date                                                                          \n",
       "1961-06-14  3.917606 -1.277955 -1.949397    0.0  0.339218 -999.98999  2.567023\n",
       "1961-06-15  3.978498 -1.257404 -2.247617    0.0  0.325775 -999.98999  2.574756\n",
       "1961-06-16  3.984350 -1.429538 -1.885024    0.0  0.348817 -999.98999  2.538720"
      ]
     },
     "execution_count": 3,
     "metadata": {},
     "output_type": "execute_result"
    }
   ],
   "source": [
    "n = 3/12\n",
    "\n",
    "df['term1'] = (1 - np.exp(-n/df['tau1'])) / (n/df['tau1'])\n",
    "df['term2'] = df['term1'] - np.exp(-n/df['tau1'])\n",
    "df['term3'] = (1 - np.exp(-n/df['tau2'])) / (n/df['tau2']) - np.exp(-n/df['tau2'])\n",
    "\n",
    "df['sven_m3'] = df['beta0'] + df['beta1'] * df['term1'] + df['beta2'] * df['term2'] + df['beta3'] * df['term3']\n",
    "\n",
    "del df['term1']\n",
    "del df['term2']\n",
    "del df['term3']\n",
    "            \n",
    "df.head(3)"
   ]
  },
  {
   "cell_type": "markdown",
   "metadata": {},
   "source": [
    "1. Combine with 3-month yields from FRED\n",
    "2. Create the liquidity factor as the deviation of 3m T-bill yields from the Svensson curve"
   ]
  },
  {
   "cell_type": "code",
   "execution_count": 4,
   "metadata": {},
   "outputs": [],
   "source": [
    "df_m3 = pd.read_stata('/Users/dioscuroi/OneDrive - UNSW/Research Data/Bonds/Bond Yields from FRB/Treasury Bills/yield_tbills_daily.dta')\n",
    "\n",
    "df_m3.index = pd.PeriodIndex(df_m3['date'], freq='D')"
   ]
  },
  {
   "cell_type": "code",
   "execution_count": 5,
   "metadata": {},
   "outputs": [
    {
     "data": {
      "text/html": [
       "<div>\n",
       "<style>\n",
       "    .dataframe thead tr:only-child th {\n",
       "        text-align: right;\n",
       "    }\n",
       "\n",
       "    .dataframe thead th {\n",
       "        text-align: left;\n",
       "    }\n",
       "\n",
       "    .dataframe tbody tr th {\n",
       "        vertical-align: top;\n",
       "    }\n",
       "</style>\n",
       "<table border=\"1\" class=\"dataframe\">\n",
       "  <thead>\n",
       "    <tr style=\"text-align: right;\">\n",
       "      <th></th>\n",
       "      <th>beta0</th>\n",
       "      <th>beta1</th>\n",
       "      <th>beta2</th>\n",
       "      <th>beta3</th>\n",
       "      <th>tau1</th>\n",
       "      <th>tau2</th>\n",
       "      <th>sven_m3</th>\n",
       "      <th>m3</th>\n",
       "      <th>sven_resid</th>\n",
       "    </tr>\n",
       "    <tr>\n",
       "      <th>date</th>\n",
       "      <th></th>\n",
       "      <th></th>\n",
       "      <th></th>\n",
       "      <th></th>\n",
       "      <th></th>\n",
       "      <th></th>\n",
       "      <th></th>\n",
       "      <th></th>\n",
       "      <th></th>\n",
       "    </tr>\n",
       "  </thead>\n",
       "  <tbody>\n",
       "    <tr>\n",
       "      <th>1961-06-14</th>\n",
       "      <td>3.917606</td>\n",
       "      <td>-1.277955</td>\n",
       "      <td>-1.949397</td>\n",
       "      <td>0.0</td>\n",
       "      <td>0.339218</td>\n",
       "      <td>-999.98999</td>\n",
       "      <td>2.567023</td>\n",
       "      <td>2.32</td>\n",
       "      <td>-0.247023</td>\n",
       "    </tr>\n",
       "    <tr>\n",
       "      <th>1961-06-15</th>\n",
       "      <td>3.978498</td>\n",
       "      <td>-1.257404</td>\n",
       "      <td>-2.247617</td>\n",
       "      <td>0.0</td>\n",
       "      <td>0.325775</td>\n",
       "      <td>-999.98999</td>\n",
       "      <td>2.574756</td>\n",
       "      <td>2.32</td>\n",
       "      <td>-0.254756</td>\n",
       "    </tr>\n",
       "    <tr>\n",
       "      <th>1961-06-16</th>\n",
       "      <td>3.984350</td>\n",
       "      <td>-1.429538</td>\n",
       "      <td>-1.885024</td>\n",
       "      <td>0.0</td>\n",
       "      <td>0.348817</td>\n",
       "      <td>-999.98999</td>\n",
       "      <td>2.538720</td>\n",
       "      <td>2.33</td>\n",
       "      <td>-0.208720</td>\n",
       "    </tr>\n",
       "    <tr>\n",
       "      <th>1961-06-19</th>\n",
       "      <td>4.004379</td>\n",
       "      <td>-0.723311</td>\n",
       "      <td>-3.310743</td>\n",
       "      <td>0.0</td>\n",
       "      <td>0.282087</td>\n",
       "      <td>-999.98999</td>\n",
       "      <td>2.693494</td>\n",
       "      <td>2.33</td>\n",
       "      <td>-0.363494</td>\n",
       "    </tr>\n",
       "    <tr>\n",
       "      <th>1961-06-20</th>\n",
       "      <td>3.985789</td>\n",
       "      <td>-0.900432</td>\n",
       "      <td>-2.844809</td>\n",
       "      <td>0.0</td>\n",
       "      <td>0.310316</td>\n",
       "      <td>-999.98999</td>\n",
       "      <td>2.685162</td>\n",
       "      <td>2.31</td>\n",
       "      <td>-0.375162</td>\n",
       "    </tr>\n",
       "  </tbody>\n",
       "</table>\n",
       "</div>"
      ],
      "text/plain": [
       "               beta0     beta1     beta2  beta3      tau1       tau2  \\\n",
       "date                                                                   \n",
       "1961-06-14  3.917606 -1.277955 -1.949397    0.0  0.339218 -999.98999   \n",
       "1961-06-15  3.978498 -1.257404 -2.247617    0.0  0.325775 -999.98999   \n",
       "1961-06-16  3.984350 -1.429538 -1.885024    0.0  0.348817 -999.98999   \n",
       "1961-06-19  4.004379 -0.723311 -3.310743    0.0  0.282087 -999.98999   \n",
       "1961-06-20  3.985789 -0.900432 -2.844809    0.0  0.310316 -999.98999   \n",
       "\n",
       "             sven_m3    m3  sven_resid  \n",
       "date                                    \n",
       "1961-06-14  2.567023  2.32   -0.247023  \n",
       "1961-06-15  2.574756  2.32   -0.254756  \n",
       "1961-06-16  2.538720  2.33   -0.208720  \n",
       "1961-06-19  2.693494  2.33   -0.363494  \n",
       "1961-06-20  2.685162  2.31   -0.375162  "
      ]
     },
     "execution_count": 5,
     "metadata": {},
     "output_type": "execute_result"
    }
   ],
   "source": [
    "df = df.join(df_m3['m3'])\n",
    "\n",
    "df['sven_resid'] = df['m3'] - df['sven_m3']\n",
    "\n",
    "df.head()"
   ]
  },
  {
   "cell_type": "markdown",
   "metadata": {},
   "source": [
    "Save the residuals and draw its time series"
   ]
  },
  {
   "cell_type": "code",
   "execution_count": 6,
   "metadata": {},
   "outputs": [],
   "source": [
    "df_sven_resid = pd.DataFrame(df['sven_resid'])\n",
    "\n",
    "df_sven_resid.to_csv('Svensson residual daily.csv')"
   ]
  },
  {
   "cell_type": "code",
   "execution_count": 7,
   "metadata": {},
   "outputs": [
    {
     "data": {
      "text/html": [
       "<div>\n",
       "<style>\n",
       "    .dataframe thead tr:only-child th {\n",
       "        text-align: right;\n",
       "    }\n",
       "\n",
       "    .dataframe thead th {\n",
       "        text-align: left;\n",
       "    }\n",
       "\n",
       "    .dataframe tbody tr th {\n",
       "        vertical-align: top;\n",
       "    }\n",
       "</style>\n",
       "<table border=\"1\" class=\"dataframe\">\n",
       "  <thead>\n",
       "    <tr style=\"text-align: right;\">\n",
       "      <th></th>\n",
       "      <th>sven_resid</th>\n",
       "    </tr>\n",
       "  </thead>\n",
       "  <tbody>\n",
       "    <tr>\n",
       "      <th>count</th>\n",
       "      <td>14053.000000</td>\n",
       "    </tr>\n",
       "    <tr>\n",
       "      <th>mean</th>\n",
       "      <td>-0.267705</td>\n",
       "    </tr>\n",
       "    <tr>\n",
       "      <th>std</th>\n",
       "      <td>0.350841</td>\n",
       "    </tr>\n",
       "    <tr>\n",
       "      <th>min</th>\n",
       "      <td>-3.042339</td>\n",
       "    </tr>\n",
       "    <tr>\n",
       "      <th>25%</th>\n",
       "      <td>-0.363597</td>\n",
       "    </tr>\n",
       "    <tr>\n",
       "      <th>50%</th>\n",
       "      <td>-0.217582</td>\n",
       "    </tr>\n",
       "    <tr>\n",
       "      <th>75%</th>\n",
       "      <td>-0.118720</td>\n",
       "    </tr>\n",
       "    <tr>\n",
       "      <th>max</th>\n",
       "      <td>4.140865</td>\n",
       "    </tr>\n",
       "  </tbody>\n",
       "</table>\n",
       "</div>"
      ],
      "text/plain": [
       "         sven_resid\n",
       "count  14053.000000\n",
       "mean      -0.267705\n",
       "std        0.350841\n",
       "min       -3.042339\n",
       "25%       -0.363597\n",
       "50%       -0.217582\n",
       "75%       -0.118720\n",
       "max        4.140865"
      ]
     },
     "execution_count": 7,
     "metadata": {},
     "output_type": "execute_result"
    }
   ],
   "source": [
    "df_sven_resid.describe()"
   ]
  },
  {
   "cell_type": "code",
   "execution_count": 8,
   "metadata": {},
   "outputs": [
    {
     "data": {
      "text/plain": [
       "<matplotlib.axes._subplots.AxesSubplot at 0x116390fd0>"
      ]
     },
     "execution_count": 8,
     "metadata": {},
     "output_type": "execute_result"
    },
    {
     "data": {
      "image/png": "[encoded data removed]",
      "text/plain": [
       "<matplotlib.figure.Figure at 0x1162ef9e8>"
      ]
     },
     "metadata": {},
     "output_type": "display_data"
    }
   ],
   "source": [
    "df_sven_resid.plot(figsize=(12,3))"
   ]
  },
  {
   "cell_type": "code",
   "execution_count": 9,
   "metadata": {},
   "outputs": [
    {
     "data": {
      "text/plain": [
       "<matplotlib.axes._subplots.AxesSubplot at 0x1178d77b8>"
      ]
     },
     "execution_count": 9,
     "metadata": {},
     "output_type": "execute_result"
    },
    {
     "data": {
      "image/png": "[encoded data removed]",
      "text/plain": [
       "<matplotlib.figure.Figure at 0x1178e5748>"
      ]
     },
     "metadata": {},
     "output_type": "display_data"
    }
   ],
   "source": [
    "df_sven_resid[:'1987-12-31'].plot(figsize=(12,3))"
   ]
  },
  {
   "cell_type": "code",
   "execution_count": 10,
   "metadata": {},
   "outputs": [
    {
     "data": {
      "text/plain": [
       "<matplotlib.axes._subplots.AxesSubplot at 0x11adf77b8>"
      ]
     },
     "execution_count": 10,
     "metadata": {},
     "output_type": "execute_result"
    },
    {
     "data": {
      "image/png": "[encoded data removed]",
      "text/plain": [
       "<matplotlib.figure.Figure at 0x1178e5f60>"
      ]
     },
     "metadata": {},
     "output_type": "display_data"
    }
   ],
   "source": [
    "df_sven_resid['1988-01-01':].plot(figsize=(12,3))"
   ]
  },
  {
   "cell_type": "code",
   "execution_count": null,
   "metadata": {
    "collapsed": true
   },
   "outputs": [],
   "source": []
  }
 ],
 "metadata": {
  "anaconda-cloud": {},
  "kernelspec": {
   "display_name": "Python 3",
   "language": "python",
   "name": "python3"
  },
  "language_info": {
   "codemirror_mode": {
    "name": "ipython",
    "version": 3
   },
   "file_extension": ".py",
   "mimetype": "text/x-python",
   "name": "python",
   "nbconvert_exporter": "python",
   "pygments_lexer": "ipython3",
   "version": "3.6.2"
  }
 },
 "nbformat": 4,
 "nbformat_minor": 2
}
